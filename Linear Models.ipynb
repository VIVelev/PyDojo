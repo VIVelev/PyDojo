{
 "cells": [
  {
   "cell_type": "code",
   "execution_count": 1,
   "metadata": {},
   "outputs": [],
   "source": [
    "import numpy as np\n",
    "from dojo.linear import (\n",
    "    LinearRegression,\n",
    "    LogisticRegression,\n",
    ")\n",
    "\n",
    "from dojo.split import cross_validate"
   ]
  },
  {
   "cell_type": "markdown",
   "metadata": {},
   "source": [
    "***"
   ]
  },
  {
   "cell_type": "markdown",
   "metadata": {},
   "source": [
    "# Linear Regression"
   ]
  },
  {
   "cell_type": "code",
   "execution_count": 2,
   "metadata": {},
   "outputs": [],
   "source": [
    "linear_reg = LinearRegression(verbose=True)"
   ]
  },
  {
   "cell_type": "code",
   "execution_count": 3,
   "metadata": {},
   "outputs": [
    {
     "data": {
      "text/plain": [
       "LinearRegression(\n",
       "    intercept=0,\n",
       "    coefs=[],\n",
       "    verbose=True,\n",
       ")"
      ]
     },
     "execution_count": 3,
     "metadata": {},
     "output_type": "execute_result"
    }
   ],
   "source": [
    "linear_reg"
   ]
  },
  {
   "cell_type": "markdown",
   "metadata": {},
   "source": [
    "### Data"
   ]
  },
  {
   "cell_type": "code",
   "execution_count": 4,
   "metadata": {},
   "outputs": [],
   "source": [
    "X = np.random.randn(100_000, 100)\n",
    "y = X @ np.random.rand(100)"
   ]
  },
  {
   "cell_type": "markdown",
   "metadata": {},
   "source": [
    "### Fitting the model"
   ]
  },
  {
   "cell_type": "code",
   "execution_count": 5,
   "metadata": {
    "scrolled": false
   },
   "outputs": [
    {
     "name": "stdout",
     "output_type": "stream",
     "text": [
      "-----------------------------------------\n",
      "Fitting...\n",
      "The model has been fitted successfully!\n",
      "-----------------------------------------\n",
      "CPU times: user 327 ms, sys: 86.3 ms, total: 414 ms\n",
      "Wall time: 272 ms\n"
     ]
    },
    {
     "data": {
      "text/plain": [
       "LinearRegression(\n",
       "    intercept=-1.9002263933372288e-10,\n",
       "    coefs=[0.49841848 0.51883036 0.8771763  0.10072207 0.23199515 0.29312447\n",
       " 0.54597396 0.0673668  0.7145862  0.80385756 0.41971275 0.07589325\n",
       " 0.6191797  0.5428635  0.56304795 0.39957926 0.8215509  0.8515859\n",
       " 0.89073455 0.0330134  0.26454553 0.6127804  0.3913761  0.03914941\n",
       " 0.5636982  0.83060735 0.7982179  0.7480077  0.9733869  0.59651434\n",
       " 0.5513273  0.3779077  0.27811822 0.72496516 0.3122248  0.65191823\n",
       " 0.8122981  0.21501608 0.72557527 0.5826617  0.9726415  0.01906079\n",
       " 0.97785455 0.23427752 0.040427   0.754944   0.22135875 0.12651615\n",
       " 0.13092873 0.6103823  0.9501778  0.20332278 0.14777048 0.09834532\n",
       " 0.21895704 0.45329642 0.31609145 0.14750636 0.16516238 0.5520315\n",
       " 0.48423108 0.64566934 0.555024   0.79250497 0.5472985  0.17812136\n",
       " 0.5874125  0.9221579  0.10354599 0.6088807  0.7602156  0.817572\n",
       " 0.24167736 0.96687406 0.06413608 0.6473676  0.2731024  0.20342764\n",
       " 0.8554245  0.02453012 0.8862577  0.3984142  0.07574534 0.8076758\n",
       " 0.74456346 0.20102102 0.4742708  0.7198209  0.45817336 0.820397\n",
       " 0.27971897 0.527698   0.48966953 0.75118196 0.68260604 0.09935419\n",
       " 0.93895185 0.7469056  0.1729473  0.28115195],\n",
       "    verbose=True,\n",
       ")"
      ]
     },
     "execution_count": 5,
     "metadata": {},
     "output_type": "execute_result"
    }
   ],
   "source": [
    "%time linear_reg.fit(X, y)"
   ]
  },
  {
   "cell_type": "markdown",
   "metadata": {},
   "source": [
    "### Evaluating the model"
   ]
  },
  {
   "cell_type": "code",
   "execution_count": 6,
   "metadata": {
    "scrolled": true
   },
   "outputs": [
    {
     "name": "stdout",
     "output_type": "stream",
     "text": [
      "Mean Squared Error: 2.5241689464846443e-13\n"
     ]
    }
   ],
   "source": [
    "linear_reg.evaluate(X, y)"
   ]
  },
  {
   "cell_type": "code",
   "execution_count": 7,
   "metadata": {},
   "outputs": [
    {
     "data": {
      "text/plain": [
       "{'train_scores': array([2.73986042e-13, 2.73298588e-13, 2.73731063e-13, 2.74060116e-13,\n",
       "        2.73785803e-13, 2.73860921e-13, 2.73788728e-13, 2.75384641e-13,\n",
       "        2.72927009e-13, 2.73387946e-13]),\n",
       " 'test_scores': array([2.74728063e-13, 2.77247514e-13, 2.71834466e-13, 2.68872613e-13,\n",
       "        2.71341438e-13, 2.73597367e-13, 2.77092771e-13, 2.65904410e-13,\n",
       "        2.80592016e-13, 2.74922507e-13])}"
      ]
     },
     "execution_count": 7,
     "metadata": {},
     "output_type": "execute_result"
    }
   ],
   "source": [
    "linear_reg.verbose = False\n",
    "cross_validate(linear_reg, X, y, cv=10)"
   ]
  },
  {
   "cell_type": "markdown",
   "metadata": {},
   "source": [
    "***"
   ]
  },
  {
   "cell_type": "markdown",
   "metadata": {},
   "source": [
    "# Logistic Regression"
   ]
  },
  {
   "cell_type": "code",
   "execution_count": 8,
   "metadata": {},
   "outputs": [],
   "source": [
    "log_reg = LogisticRegression(verbose=True)"
   ]
  },
  {
   "cell_type": "code",
   "execution_count": 9,
   "metadata": {},
   "outputs": [
    {
     "data": {
      "text/plain": [
       "LogisticRegression(\n",
       "    intercept=0,\n",
       "    coefs=[],\n",
       "    C=1.0,\n",
       "    lr=0.01,\n",
       "    verbose=True,\n",
       ")"
      ]
     },
     "execution_count": 9,
     "metadata": {},
     "output_type": "execute_result"
    }
   ],
   "source": [
    "log_reg"
   ]
  },
  {
   "cell_type": "markdown",
   "metadata": {},
   "source": [
    "### Data"
   ]
  },
  {
   "cell_type": "code",
   "execution_count": 10,
   "metadata": {},
   "outputs": [],
   "source": [
    "X = np.array(\n",
    "    [[1, 1],\n",
    "    [1, 0],\n",
    "    [0, 1],\n",
    "    [0, 0]]\n",
    ")\n",
    "\n",
    "y = np.array([1 if x[0] and x[1] else 0 for x in X])"
   ]
  },
  {
   "cell_type": "markdown",
   "metadata": {},
   "source": [
    "### Fitting the model"
   ]
  },
  {
   "cell_type": "code",
   "execution_count": 11,
   "metadata": {},
   "outputs": [
    {
     "name": "stdout",
     "output_type": "stream",
     "text": [
      "--------------------------\n",
      "10th iteration\n",
      "Loss: 2.413937281697809e-05\n",
      "--------------------------\n",
      "20th iteration\n",
      "Loss: 2.2960647674596935e-05\n",
      "--------------------------\n",
      "30th iteration\n",
      "Loss: 2.1839480813912182e-05\n",
      "--------------------------\n",
      "40th iteration\n",
      "Loss: 2.0773058258316546e-05\n",
      "--------------------------\n",
      "50th iteration\n",
      "Loss: 1.9758713369344427e-05\n",
      "--------------------------\n",
      "60th iteration\n",
      "Loss: 1.8793886828905038e-05\n",
      "--------------------------\n",
      "70th iteration\n",
      "Loss: 1.7876183027953907e-05\n",
      "--------------------------\n",
      "80th iteration\n",
      "Loss: 1.7003284573990918e-05\n",
      "--------------------------\n",
      "90th iteration\n",
      "Loss: 1.6173012317710622e-05\n",
      "--------------------------\n",
      "100th iteration\n",
      "Loss: 1.538327260230954e-05\n",
      "--------------------------\n",
      "110th iteration\n",
      "Loss: 1.463210637620005e-05\n",
      "--------------------------\n",
      "120th iteration\n",
      "Loss: 1.391761916191836e-05\n",
      "--------------------------\n",
      "130th iteration\n",
      "Loss: 1.3238021983386083e-05\n",
      "--------------------------\n",
      "140th iteration\n",
      "Loss: 1.2591605900058589e-05\n",
      "--------------------------\n",
      "150th iteration\n",
      "Loss: 1.1976757468334931e-05\n",
      "--------------------------\n",
      "160th iteration\n",
      "Loss: 1.1391931456716797e-05\n",
      "--------------------------\n",
      "170th iteration\n",
      "Loss: 1.0835660850250228e-05\n",
      "--------------------------\n",
      "180th iteration\n",
      "Loss: 1.0306554122041511e-05\n",
      "--------------------------\n",
      "190th iteration\n",
      "Loss: 9.803286138310163e-06\n",
      "--------------------------\n",
      "200th iteration\n",
      "Loss: 9.324589972936614e-06\n",
      "--------------------------\n",
      "210th iteration\n",
      "Loss: 8.869270549882735e-06\n",
      "--------------------------\n",
      "220th iteration\n",
      "Loss: 8.436182815318993e-06\n",
      "--------------------------\n",
      "230th iteration\n",
      "Loss: 8.024243561055577e-06\n",
      "--------------------------\n",
      "240th iteration\n",
      "Loss: 7.63241778212187e-06\n",
      "--------------------------\n",
      "250th iteration\n",
      "Loss: 7.259725952724061e-06\n",
      "--------------------------\n",
      "260th iteration\n",
      "Loss: 6.905233567056079e-06\n",
      "--------------------------\n",
      "270th iteration\n",
      "Loss: 6.56805068455224e-06\n",
      "CPU times: user 107 ms, sys: 31.9 ms, total: 139 ms\n",
      "Wall time: 117 ms\n"
     ]
    },
    {
     "data": {
      "text/plain": [
       "LogisticRegression(\n",
       "    intercept=-0.002499999999999999,\n",
       "    coefs=[0.00125287 0.00125287],\n",
       "    C=1.0,\n",
       "    lr=0.01,\n",
       "    verbose=True,\n",
       ")"
      ]
     },
     "execution_count": 11,
     "metadata": {},
     "output_type": "execute_result"
    }
   ],
   "source": [
    "%time log_reg.fit(X, y)"
   ]
  },
  {
   "cell_type": "markdown",
   "metadata": {},
   "source": [
    "### Evaluating the model"
   ]
  },
  {
   "cell_type": "code",
   "execution_count": 12,
   "metadata": {},
   "outputs": [
    {
     "name": "stdout",
     "output_type": "stream",
     "text": [
      "Accuracy score: 1.0\n"
     ]
    }
   ],
   "source": [
    "log_reg.evaluate(X, y)"
   ]
  },
  {
   "cell_type": "code",
   "execution_count": 35,
   "metadata": {},
   "outputs": [
    {
     "data": {
      "text/plain": [
       "{'train_scores': array([1.        , 0.66666667, 1.        , 1.        ]),\n",
       " 'test_scores': array([0., 1., 0., 0.])}"
      ]
     },
     "execution_count": 35,
     "metadata": {},
     "output_type": "execute_result"
    }
   ],
   "source": [
    "from dojo.metrics.classification import accuracy_score\n",
    "from dojo.tree import ClassificationTree\n",
    "\n",
    "cross_validate(ClassificationTree(), X, y, cv=5, metric=accuracy_score)"
   ]
  },
  {
   "cell_type": "code",
   "execution_count": null,
   "metadata": {},
   "outputs": [],
   "source": []
  },
  {
   "cell_type": "code",
   "execution_count": null,
   "metadata": {},
   "outputs": [],
   "source": []
  }
 ],
 "metadata": {
  "kernelspec": {
   "display_name": "Python 3",
   "language": "python",
   "name": "python3"
  },
  "language_info": {
   "codemirror_mode": {
    "name": "ipython",
    "version": 3
   },
   "file_extension": ".py",
   "mimetype": "text/x-python",
   "name": "python",
   "nbconvert_exporter": "python",
   "pygments_lexer": "ipython3",
   "version": "3.7.1"
  }
 },
 "nbformat": 4,
 "nbformat_minor": 2
}
