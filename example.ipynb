{
 "cells": [
  {
   "cell_type": "code",
   "execution_count": 1,
   "metadata": {},
   "outputs": [],
   "source": [
    "import numpy as np\n",
    "from dojo.linear import LinearRegression"
   ]
  },
  {
   "cell_type": "code",
   "execution_count": 2,
   "metadata": {},
   "outputs": [],
   "source": [
    "model = LinearRegression()"
   ]
  },
  {
   "cell_type": "code",
   "execution_count": 3,
   "metadata": {},
   "outputs": [
    {
     "data": {
      "text/plain": [
       "LinearRegression(\n",
       "    intercept=0,\n",
       "    coefs=[],\n",
       ")"
      ]
     },
     "execution_count": 3,
     "metadata": {},
     "output_type": "execute_result"
    }
   ],
   "source": [
    "model"
   ]
  },
  {
   "cell_type": "markdown",
   "metadata": {},
   "source": [
    "## Data"
   ]
  },
  {
   "cell_type": "code",
   "execution_count": 4,
   "metadata": {},
   "outputs": [],
   "source": [
    "X = np.random.randn(100_000, 100)\n",
    "y = X @ np.random.rand(100)"
   ]
  },
  {
   "cell_type": "markdown",
   "metadata": {},
   "source": [
    "## Fitting the model"
   ]
  },
  {
   "cell_type": "code",
   "execution_count": 5,
   "metadata": {
    "scrolled": false
   },
   "outputs": [
    {
     "name": "stdout",
     "output_type": "stream",
     "text": [
      "CPU times: user 325 ms, sys: 72.6 ms, total: 397 ms\n",
      "Wall time: 252 ms\n"
     ]
    },
    {
     "data": {
      "text/plain": [
       "LinearRegression(\n",
       "    intercept=-2.4069288229178198e-17,\n",
       "    coefs=[0.45644339 0.23283477 0.71210458 0.89298774 0.25861492 0.53201101\n",
       " 0.62111879 0.62158845 0.21231709 0.73848615 0.22072778 0.40339499\n",
       " 0.15308367 0.58320649 0.43019558 0.88764137 0.54743756 0.47176585\n",
       " 0.84262054 0.32560307 0.13096068 0.70808717 0.42299018 0.5127114\n",
       " 0.07973758 0.29498546 0.08433411 0.61344893 0.34151991 0.70392545\n",
       " 0.11453933 0.91397184 0.21155614 0.35361624 0.5092235  0.52345847\n",
       " 0.69964218 0.27539692 0.13419243 0.23864451 0.3950668  0.8592698\n",
       " 0.64149981 0.18735957 0.09005274 0.94027089 0.77861238 0.82989339\n",
       " 0.66901064 0.17321879 0.52685784 0.67897456 0.82128829 0.92624748\n",
       " 0.94178134 0.05470596 0.8192065  0.41315145 0.16085788 0.81496281\n",
       " 0.87268502 0.42539396 0.40511065 0.51461537 0.44537212 0.53732657\n",
       " 0.33335876 0.91121942 0.89985173 0.73406637 0.42087938 0.67076974\n",
       " 0.03618561 0.83892468 0.31919552 0.60643074 0.95820864 0.07518477\n",
       " 0.68948303 0.94818382 0.99446078 0.95159905 0.14698106 0.2257198\n",
       " 0.47589811 0.31682545 0.38581463 0.90185317 0.1927544  0.46718115\n",
       " 0.42345414 0.00262147 0.05729442 0.70584606 0.81338838 0.13124992\n",
       " 0.93266197 0.10314016 0.3378343  0.89877824],\n",
       ")"
      ]
     },
     "execution_count": 5,
     "metadata": {},
     "output_type": "execute_result"
    }
   ],
   "source": [
    "%time model.fit(X, y)"
   ]
  },
  {
   "cell_type": "code",
   "execution_count": 6,
   "metadata": {},
   "outputs": [],
   "source": [
    "y_pred = model.predict(X)"
   ]
  },
  {
   "cell_type": "code",
   "execution_count": 7,
   "metadata": {},
   "outputs": [
    {
     "data": {
      "text/plain": [
       "1.59429754147269e-24"
      ]
     },
     "execution_count": 7,
     "metadata": {},
     "output_type": "execute_result"
    }
   ],
   "source": [
    "# Squared Error\n",
    "sum((y_pred - y)**2)"
   ]
  },
  {
   "cell_type": "code",
   "execution_count": null,
   "metadata": {},
   "outputs": [],
   "source": []
  },
  {
   "cell_type": "code",
   "execution_count": null,
   "metadata": {},
   "outputs": [],
   "source": []
  },
  {
   "cell_type": "code",
   "execution_count": null,
   "metadata": {},
   "outputs": [],
   "source": []
  }
 ],
 "metadata": {
  "kernelspec": {
   "display_name": "Python 3",
   "language": "python",
   "name": "python3"
  },
  "language_info": {
   "codemirror_mode": {
    "name": "ipython",
    "version": 3
   },
   "file_extension": ".py",
   "mimetype": "text/x-python",
   "name": "python",
   "nbconvert_exporter": "python",
   "pygments_lexer": "ipython3",
   "version": "3.7.0"
  }
 },
 "nbformat": 4,
 "nbformat_minor": 2
}
