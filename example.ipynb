{
 "cells": [
  {
   "cell_type": "code",
   "execution_count": 1,
   "metadata": {},
   "outputs": [],
   "source": [
    "import numpy as np\n",
    "from dojo.linear import LinearRegression"
   ]
  },
  {
   "cell_type": "code",
   "execution_count": 2,
   "metadata": {},
   "outputs": [],
   "source": [
    "model = LinearRegression(verbose=True)"
   ]
  },
  {
   "cell_type": "code",
   "execution_count": 3,
   "metadata": {},
   "outputs": [
    {
     "data": {
      "text/plain": [
       "LinearRegression(\n",
       "    intercept=0,\n",
       "    coefs=[],\n",
       "    verbose=True,\n",
       ")"
      ]
     },
     "execution_count": 3,
     "metadata": {},
     "output_type": "execute_result"
    }
   ],
   "source": [
    "model"
   ]
  },
  {
   "cell_type": "markdown",
   "metadata": {},
   "source": [
    "## Data"
   ]
  },
  {
   "cell_type": "code",
   "execution_count": 4,
   "metadata": {},
   "outputs": [],
   "source": [
    "X = np.random.randn(100_000, 100)\n",
    "y = X @ np.random.rand(100)"
   ]
  },
  {
   "cell_type": "markdown",
   "metadata": {},
   "source": [
    "## Fitting the model"
   ]
  },
  {
   "cell_type": "code",
   "execution_count": 5,
   "metadata": {
    "scrolled": false
   },
   "outputs": [
    {
     "name": "stdout",
     "output_type": "stream",
     "text": [
      "-----------------------------------------\n",
      "Fitting...\n",
      "The model has been fitted successfully!\n",
      "-----------------------------------------\n",
      "CPU times: user 377 ms, sys: 119 ms, total: 496 ms\n",
      "Wall time: 344 ms\n"
     ]
    },
    {
     "data": {
      "text/plain": [
       "LinearRegression(\n",
       "    intercept=4.7921736023859296e-17,\n",
       "    coefs=[0.6823843458310156, 0.1467025670886894, 0.4711890026008454, 0.952064330172797, 0.10727024035311343, 0.018322280445023573, 0.842538673057329, 0.5854502316547221, 0.9000389535212698, 0.27615402526557364, 0.06864022655748762, 0.510455066570374, 0.2425960996767275, 0.12214010032641096, 0.21788169433990812, 0.3617273685001644, 0.8234373696086054, 0.8298931191606306, 0.10481189044488269, 0.6396296746999075, 0.6539088573294194, 0.8509237633455518, 0.455892860174767, 0.614628420940923, 0.2198927504514184, 0.8627073633659044, 0.2123259355911784, 0.7075354125796582, 0.8177380887049763, 0.6258155617533946, 0.3047017672634278, 0.35310187744717114, 0.529523382466542, 0.17460211542255497, 0.33483606499983104, 0.029821240186359257, 0.029529628561643873, 0.035127626944666916, 0.16519577728809515, 0.09705826314135281, 0.4367475122158323, 0.8418905053763889, 0.5667468748370067, 0.12840307692949318, 0.5773147523209946, 0.03730866432851386, 0.48218502803186636, 0.4630064081921354, 0.789373681415507, 0.6959719230778828, 0.5352710363926632, 0.9115794215189782, 0.6069956220963798, 0.5234507257664341, 0.9308559296034361, 0.867827059542249, 0.4736280995002748, 0.2534640116013663, 0.23304724206258112, 0.7991858816807861, 0.9751061841203064, 0.11343414772754577, 0.9191314545304526, 0.2283998449168865, 0.9885929049177588, 0.7324609626975267, 0.21980738663422203, 0.0247648693915973, 0.9494985954246267, 0.973372566154455, 0.5260804532011077, 0.6034805313329794, 0.04931620064732106, 0.8693553903701633, 0.25812677718281934, 0.550639613759114, 0.024268705066799342, 0.08076960969113156, 0.3132586380257558, 0.005093369619935364, 0.5864831319316512, 0.4434140178267155, 0.4469260211333247, 0.5854660925091745, 0.6466230053308298, 0.3105297676044778, 0.47845627696887777, 0.48200617921006494, 0.2653379254684433, 0.9542958577510047, 0.15281374777958798, 0.5040813660926924, 0.5410916518229162, 0.48738755700957515, 0.7743898827448673, 0.3091669672428268, 0.9610416071709522, 0.5457901170591664, 0.903441248847374, 6.768233840489922e-05],\n",
       "    verbose=True,\n",
       ")"
      ]
     },
     "execution_count": 5,
     "metadata": {},
     "output_type": "execute_result"
    }
   ],
   "source": [
    "%time model.fit(X, y)"
   ]
  },
  {
   "cell_type": "code",
   "execution_count": 6,
   "metadata": {},
   "outputs": [],
   "source": [
    "y_pred = model.predict(X)"
   ]
  },
  {
   "cell_type": "code",
   "execution_count": 7,
   "metadata": {},
   "outputs": [
    {
     "name": "stdout",
     "output_type": "stream",
     "text": [
      "Mean Squared Error: 1.4107679454295125e-29\n"
     ]
    }
   ],
   "source": [
    "model.evaluate(X, y)"
   ]
  },
  {
   "cell_type": "code",
   "execution_count": null,
   "metadata": {},
   "outputs": [],
   "source": []
  }
 ],
 "metadata": {
  "kernelspec": {
   "display_name": "Python 3",
   "language": "python",
   "name": "python3"
  },
  "language_info": {
   "codemirror_mode": {
    "name": "ipython",
    "version": 3
   },
   "file_extension": ".py",
   "mimetype": "text/x-python",
   "name": "python",
   "nbconvert_exporter": "python",
   "pygments_lexer": "ipython3",
   "version": "3.7.0"
  }
 },
 "nbformat": 4,
 "nbformat_minor": 2
}
