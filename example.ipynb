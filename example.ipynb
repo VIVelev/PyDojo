{
 "cells": [
  {
   "cell_type": "code",
   "execution_count": 1,
   "metadata": {},
   "outputs": [],
   "source": [
    "import numpy as np\n",
    "from dojo.linear import LinearRegression"
   ]
  },
  {
   "cell_type": "code",
   "execution_count": 2,
   "metadata": {},
   "outputs": [],
   "source": [
    "model = LinearRegression()"
   ]
  },
  {
   "cell_type": "code",
   "execution_count": 3,
   "metadata": {},
   "outputs": [
    {
     "data": {
      "text/plain": [
       "LinearRegression(\n",
       "    intercept=0,\n",
       "    coefs=[],\n",
       "    verbose=False,\n",
       ")"
      ]
     },
     "execution_count": 3,
     "metadata": {},
     "output_type": "execute_result"
    }
   ],
   "source": [
    "model"
   ]
  },
  {
   "cell_type": "markdown",
   "metadata": {},
   "source": [
    "## Data"
   ]
  },
  {
   "cell_type": "code",
   "execution_count": 4,
   "metadata": {},
   "outputs": [],
   "source": [
    "X = np.random.randn(100_000, 100)\n",
    "y = X @ np.random.rand(100)"
   ]
  },
  {
   "cell_type": "markdown",
   "metadata": {},
   "source": [
    "## Fitting the model"
   ]
  },
  {
   "cell_type": "code",
   "execution_count": 5,
   "metadata": {
    "scrolled": false
   },
   "outputs": [
    {
     "name": "stdout",
     "output_type": "stream",
     "text": [
      "CPU times: user 403 ms, sys: 116 ms, total: 519 ms\n",
      "Wall time: 425 ms\n"
     ]
    },
    {
     "data": {
      "text/plain": [
       "LinearRegression(\n",
       "    intercept=2.0166160408230382e-17,\n",
       "    coefs=[0.9762126487602882, 0.7600324127627771, 0.30922715984880916, 0.5448604185425268, 0.19720037236137236, 0.006296465066976894, 0.7567530463282983, 0.6168284700646792, 0.009111684423148834, 0.13275351606056976, 0.24325297423349998, 0.7176252690524348, 0.27712617789590166, 0.6742919697421896, 0.02499934291928364, 0.8344213648572238, 0.749787419414725, 0.6810514098067634, 0.6126058273801577, 0.2260209420594047, 0.4321872990771123, 0.701912981002624, 0.5489050452642878, 0.37051950948423185, 0.22023557415410866, 0.878916940801438, 0.4851892728118546, 0.43675232328017866, 0.30883867666012677, 0.2939423634750843, 0.8720228026020961, 0.5825375201084113, 0.7758370720033396, 0.30785459610853183, 0.14767499441321233, 0.4477643698580997, 0.17944240109794518, 0.561157108574397, 0.033452426905198014, 0.05342424157778771, 0.20041459328117395, 0.5147971329953969, 0.22671422520788106, 0.847133606078176, 0.4852520183844348, 0.17144897463645922, 0.9993665041850232, 0.04570700969355304, 0.48395883290141734, 0.8542327378274625, 0.17786117236698554, 0.2821999732929038, 0.2967776641773465, 0.9727517229345998, 0.6375941615295426, 0.6720779979532755, 0.5263675072701557, 0.47678694265425575, 0.5514261338106519, 0.36838221464937965, 0.27418974110238936, 0.5358496324769447, 0.5262374688950879, 0.12391847042670064, 0.023504772521919924, 0.5186165551002245, 0.5271258224811888, 0.539551756459333, 0.7405955909198984, 0.2989480293064441, 0.07588697271954156, 0.7396375692598255, 0.0650675027569516, 0.7737545508460669, 0.29208245957623075, 0.26403426249147455, 0.9546324889139588, 0.20470763371867548, 0.9258383144756033, 0.7237334252588656, 0.14480760774434695, 0.20978522032174546, 0.3569108584841358, 0.2289129506030053, 0.0071174054723976065, 0.3440112373766433, 0.6030679832784345, 0.239143658608719, 0.7966702358025783, 0.4340598854002756, 0.330890270265358, 0.6473885571902472, 0.18088351133181751, 0.10194397519555316, 0.5243344275472417, 0.5205660345488717, 0.5588495096463281, 0.2087375625519915, 0.46645036531116085, 0.469525550204725],\n",
       "    verbose=False,\n",
       ")"
      ]
     },
     "execution_count": 5,
     "metadata": {},
     "output_type": "execute_result"
    }
   ],
   "source": [
    "%time model.fit(X, y)"
   ]
  },
  {
   "cell_type": "code",
   "execution_count": 6,
   "metadata": {},
   "outputs": [],
   "source": [
    "y_pred = model.predict(X)"
   ]
  },
  {
   "cell_type": "code",
   "execution_count": 7,
   "metadata": {},
   "outputs": [
    {
     "name": "stdout",
     "output_type": "stream",
     "text": [
      "Mean Squared Error: 9.890183216135008e-30\n"
     ]
    }
   ],
   "source": [
    "model.evaluate(X, y)"
   ]
  },
  {
   "cell_type": "code",
   "execution_count": null,
   "metadata": {},
   "outputs": [],
   "source": []
  }
 ],
 "metadata": {
  "kernelspec": {
   "display_name": "Python 3",
   "language": "python",
   "name": "python3"
  },
  "language_info": {
   "codemirror_mode": {
    "name": "ipython",
    "version": 3
   },
   "file_extension": ".py",
   "mimetype": "text/x-python",
   "name": "python",
   "nbconvert_exporter": "python",
   "pygments_lexer": "ipython3",
   "version": "3.7.0"
  }
 },
 "nbformat": 4,
 "nbformat_minor": 2
}
