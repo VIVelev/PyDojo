{
 "cells": [
  {
   "cell_type": "code",
   "execution_count": 1,
   "metadata": {},
   "outputs": [],
   "source": [
    "import numpy as np\n",
    "from dojo.linear import LinearRegression"
   ]
  },
  {
   "cell_type": "code",
   "execution_count": 2,
   "metadata": {},
   "outputs": [],
   "source": [
    "model = LinearRegression()"
   ]
  },
  {
   "cell_type": "code",
   "execution_count": 3,
   "metadata": {},
   "outputs": [
    {
     "data": {
      "text/plain": [
       "LinearRegression(\n",
       "    intercept=0,\n",
       "    coefs=[],\n",
       "    verbose=False,\n",
       ")"
      ]
     },
     "execution_count": 3,
     "metadata": {},
     "output_type": "execute_result"
    }
   ],
   "source": [
    "model"
   ]
  },
  {
   "cell_type": "markdown",
   "metadata": {},
   "source": [
    "## Data"
   ]
  },
  {
   "cell_type": "code",
   "execution_count": 4,
   "metadata": {},
   "outputs": [],
   "source": [
    "X = np.random.randn(100_000, 100)\n",
    "y = X @ np.random.rand(100)"
   ]
  },
  {
   "cell_type": "markdown",
   "metadata": {},
   "source": [
    "## Fitting the model"
   ]
  },
  {
   "cell_type": "code",
   "execution_count": 5,
   "metadata": {
    "scrolled": false
   },
   "outputs": [
    {
     "name": "stdout",
     "output_type": "stream",
     "text": [
      "CPU times: user 325 ms, sys: 65.6 ms, total: 390 ms\n",
      "Wall time: 255 ms\n"
     ]
    },
    {
     "data": {
      "text/plain": [
       "LinearRegression(\n",
       "    intercept=5.377642775528102e-17,\n",
       "    coefs=[0.7014587678861725, 0.6905560284325054, 0.4798623098382708, 0.5093601791845445, 0.8423993698773996, 0.8438207264715796, 0.41850296079898114, 0.6978483094041518, 0.5175839858197463, 0.20863808886472973, 0.40000755040181374, 0.03486382549982531, 0.7223395596272937, 0.9752090790680155, 0.5377317452548324, 0.3377211709360171, 0.9833378762158121, 0.19458419448810252, 0.31365565382831107, 0.28324787550802777, 0.09591253075833342, 0.40817422125734104, 0.6065272669093076, 0.4966102335451368, 0.46967045363409965, 0.5531400136181475, 0.8719675734943174, 0.5351865948444114, 0.5751188183468607, 0.5140590863251819, 0.4559943558476267, 0.26208238794764455, 0.42977070569650505, 0.286242252219704, 0.3973765830216966, 0.03876804124978584, 0.8878255076587634, 0.47471124653608077, 0.011520183046893746, 0.32555647970915347, 0.4168583917157404, 0.08975959465985107, 0.17600486764694528, 0.1932920997659138, 0.9438028782649682, 0.7559278729070451, 0.8359921356535778, 0.4011243995032795, 0.3884787006226275, 0.1707055050543939, 0.40105817108501957, 0.48583370171285306, 0.17421284531971246, 0.783533484384277, 0.39852971982415714, 0.8571685966139879, 0.6644130203028498, 0.6848841106091234, 0.023548534762684672, 0.26322410488729253, 0.8778275031790356, 0.6801429534931358, 0.8543803792722638, 0.7766490343781101, 0.8382280768274818, 0.8220523889054916, 0.6540333508530218, 0.8222797128264882, 0.9391831352375465, 0.7362218013539377, 0.325329961723267, 0.3711157035533693, 0.19306712018343283, 0.22399640897182096, 0.6721787020471158, 0.19269102826795817, 0.84831041112788, 0.3409162742981827, 0.33626056286190387, 0.8213616383452497, 0.21000148222810283, 0.7509007678143947, 0.3273015927462608, 0.7831573356920027, 0.07413987712527832, 0.5810337200130385, 0.4903067748972776, 0.27168473025893175, 0.005422490264901759, 0.1047921904847073, 0.8754857392935074, 0.3288924467531232, 0.5075197758037517, 0.17187800418016363, 0.5785100127234479, 0.5315930727539803, 0.7790222247674637, 0.259547431122901, 0.3373609849138016, 0.8133086911978253],\n",
       "    verbose=False,\n",
       ")"
      ]
     },
     "execution_count": 5,
     "metadata": {},
     "output_type": "execute_result"
    }
   ],
   "source": [
    "%time model.fit(X, y)"
   ]
  },
  {
   "cell_type": "code",
   "execution_count": 6,
   "metadata": {},
   "outputs": [],
   "source": [
    "y_pred = model.predict(X)"
   ]
  },
  {
   "cell_type": "code",
   "execution_count": 7,
   "metadata": {},
   "outputs": [
    {
     "data": {
      "text/plain": [
       "1.710057301248571e-24"
      ]
     },
     "execution_count": 7,
     "metadata": {},
     "output_type": "execute_result"
    }
   ],
   "source": [
    "# Squared Error\n",
    "sum((y_pred - y)**2)"
   ]
  },
  {
   "cell_type": "code",
   "execution_count": null,
   "metadata": {},
   "outputs": [],
   "source": []
  },
  {
   "cell_type": "code",
   "execution_count": null,
   "metadata": {},
   "outputs": [],
   "source": []
  }
 ],
 "metadata": {
  "kernelspec": {
   "display_name": "Python 3",
   "language": "python",
   "name": "python3"
  },
  "language_info": {
   "codemirror_mode": {
    "name": "ipython",
    "version": 3
   },
   "file_extension": ".py",
   "mimetype": "text/x-python",
   "name": "python",
   "nbconvert_exporter": "python",
   "pygments_lexer": "ipython3",
   "version": "3.7.0"
  }
 },
 "nbformat": 4,
 "nbformat_minor": 2
}
