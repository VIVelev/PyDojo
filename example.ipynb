{
 "cells": [
  {
   "cell_type": "code",
   "execution_count": 1,
   "metadata": {},
   "outputs": [],
   "source": [
    "import numpy as np\n",
    "from dojo.linear import (\n",
    "    LinearRegression,\n",
    "    LogisticRegression,\n",
    ")"
   ]
  },
  {
   "cell_type": "markdown",
   "metadata": {},
   "source": [
    "***"
   ]
  },
  {
   "cell_type": "markdown",
   "metadata": {},
   "source": [
    "# Linear Regression"
   ]
  },
  {
   "cell_type": "code",
   "execution_count": 2,
   "metadata": {},
   "outputs": [],
   "source": [
    "linear_reg = LinearRegression(verbose=True)"
   ]
  },
  {
   "cell_type": "code",
   "execution_count": 3,
   "metadata": {},
   "outputs": [
    {
     "data": {
      "text/plain": [
       "LinearRegression(\n",
       "    intercept=0,\n",
       "    coefs=[],\n",
       "    verbose=True,\n",
       ")"
      ]
     },
     "execution_count": 3,
     "metadata": {},
     "output_type": "execute_result"
    }
   ],
   "source": [
    "linear_reg"
   ]
  },
  {
   "cell_type": "markdown",
   "metadata": {},
   "source": [
    "### Data"
   ]
  },
  {
   "cell_type": "code",
   "execution_count": 4,
   "metadata": {},
   "outputs": [],
   "source": [
    "X = np.random.randn(100_000, 100)\n",
    "y = X @ np.random.rand(100)"
   ]
  },
  {
   "cell_type": "markdown",
   "metadata": {},
   "source": [
    "### Fitting the model"
   ]
  },
  {
   "cell_type": "code",
   "execution_count": 5,
   "metadata": {
    "scrolled": false
   },
   "outputs": [
    {
     "name": "stdout",
     "output_type": "stream",
     "text": [
      "-----------------------------------------\n",
      "Fitting...\n",
      "The model has been fitted successfully!\n",
      "-----------------------------------------\n",
      "CPU times: user 384 ms, sys: 103 ms, total: 487 ms\n",
      "Wall time: 325 ms\n"
     ]
    },
    {
     "data": {
      "text/plain": [
       "LinearRegression(\n",
       "    intercept=-3.955374372217185e-10,\n",
       "    coefs=[0.7667523111006689, 0.1700838835371025, 0.3084170779713208, 0.49364352468515116, 0.35365847773179226, 0.6085478327023395, 0.6656876729517285, 0.44899252587115024, 0.7810969568687328, 0.4522922643378583, 0.031304266242615335, 0.9488412098798201, 0.20402338293265437, 0.6738335100379849, 0.7074421208024826, 0.8005414730769559, 0.14122732350686878, 0.5473315833947422, 0.27981090155159505, 0.23034145776238857, 0.5143892491667731, 0.7141656695907102, 0.37161195706752215, 0.6324511230241718, 0.32094208461978874, 0.9082023430741353, 0.2521847918117958, 0.06445609293757691, 0.7409828998199511, 0.9347760010515274, 0.5492593289583539, 0.8430311901023277, 0.27377214727801275, 0.5728230848011994, 0.5012206093312239, 0.31900301476907106, 0.1640999235415922, 0.4906952588218207, 0.4121290698884271, 0.8050287935732654, 0.68898510316329, 0.41212938998857623, 0.5981838233591775, 0.16510205845108156, 0.7805047432450091, 0.3679045126426636, 0.010353149272928972, 0.14267797278418515, 0.3797860115168415, 0.2080199624071294, 0.22910056101028745, 0.6180258886662513, 0.8887129904089748, 0.908167618354787, 0.9861300192493988, 0.07349932860524015, 0.5063287450588176, 0.721525949848695, 0.7544845976046874, 0.09736030859798094, 0.5691004169636285, 0.6216568674531571, 0.07908493932885236, 0.2239237778692343, 0.7805144619793504, 0.46144132541099847, 0.5633052350165054, 0.015492137607925413, 0.6841084683072529, 0.2892283510602817, 0.10427622527521035, 0.8129602944027244, 0.00773022346600636, 0.9128674068035523, 0.658930754228109, 0.17595438274592787, 0.7213081315384494, 0.10659920872639823, 0.22439065357652657, 0.3886362196470559, 0.5832682573200859, 0.2721564948197334, 0.37285141804159216, 0.19479746108808949, 0.9170560602533365, 0.9532297590663752, 0.9362964753118989, 0.8295766335067802, 0.6995507685375251, 0.1380807121881072, 0.9072487900818424, 0.47552540254730336, 0.909358864720309, 0.615917141584244, 0.22727214434119328, 0.4264537605390958, 0.3721181388360301, 0.08705337603632517, 0.1662578271503345, 0.3230434688949967],\n",
       "    verbose=True,\n",
       ")"
      ]
     },
     "execution_count": 5,
     "metadata": {},
     "output_type": "execute_result"
    }
   ],
   "source": [
    "%time linear_reg.fit(X, y)"
   ]
  },
  {
   "cell_type": "markdown",
   "metadata": {},
   "source": [
    "### Evaluating the model"
   ]
  },
  {
   "cell_type": "code",
   "execution_count": 6,
   "metadata": {
    "scrolled": true
   },
   "outputs": [
    {
     "name": "stdout",
     "output_type": "stream",
     "text": [
      "Mean Squared Error: 4.010820030982008e-14\n"
     ]
    }
   ],
   "source": [
    "linear_reg.evaluate(X, y)"
   ]
  },
  {
   "cell_type": "markdown",
   "metadata": {},
   "source": [
    "***"
   ]
  },
  {
   "cell_type": "markdown",
   "metadata": {},
   "source": [
    "# Logistic Regression"
   ]
  },
  {
   "cell_type": "code",
   "execution_count": 7,
   "metadata": {},
   "outputs": [],
   "source": [
    "log_reg = LogisticRegression(verbose=True)"
   ]
  },
  {
   "cell_type": "code",
   "execution_count": 8,
   "metadata": {},
   "outputs": [
    {
     "data": {
      "text/plain": [
       "LogisticRegression(\n",
       "    intercept=0,\n",
       "    coefs=[],\n",
       "    C=1.0,\n",
       "    lr=0.01,\n",
       "    verbose=True,\n",
       ")"
      ]
     },
     "execution_count": 8,
     "metadata": {},
     "output_type": "execute_result"
    }
   ],
   "source": [
    "log_reg"
   ]
  },
  {
   "cell_type": "markdown",
   "metadata": {},
   "source": [
    "### Data"
   ]
  },
  {
   "cell_type": "code",
   "execution_count": 9,
   "metadata": {},
   "outputs": [],
   "source": [
    "X = np.array(\n",
    "    [[1, 1],\n",
    "    [1, 0],\n",
    "    [0, 1],\n",
    "    [0, 0]]\n",
    ")\n",
    "\n",
    "y = np.array([1 if x[0] and x[1] else 0 for x in X])"
   ]
  },
  {
   "cell_type": "markdown",
   "metadata": {},
   "source": [
    "### Fitting the model"
   ]
  },
  {
   "cell_type": "code",
   "execution_count": 10,
   "metadata": {},
   "outputs": [
    {
     "name": "stdout",
     "output_type": "stream",
     "text": [
      "--------------------------\n",
      "10th iteration\n",
      "Loss: 2.413937281697809e-05\n",
      "--------------------------\n",
      "20th iteration\n",
      "Loss: 2.2960647674596935e-05\n",
      "--------------------------\n",
      "30th iteration\n",
      "Loss: 2.1839480813912182e-05\n",
      "--------------------------\n",
      "40th iteration\n",
      "Loss: 2.0773058258316546e-05\n",
      "--------------------------\n",
      "50th iteration\n",
      "Loss: 1.9758713369344427e-05\n",
      "--------------------------\n",
      "60th iteration\n",
      "Loss: 1.8793886828905038e-05\n",
      "--------------------------\n",
      "70th iteration\n",
      "Loss: 1.7876183027953907e-05\n",
      "--------------------------\n",
      "80th iteration\n",
      "Loss: 1.7003284573990918e-05\n",
      "--------------------------\n",
      "90th iteration\n",
      "Loss: 1.6173012317710622e-05\n",
      "--------------------------\n",
      "100th iteration\n",
      "Loss: 1.538327260230954e-05\n",
      "--------------------------\n",
      "110th iteration\n",
      "Loss: 1.463210637620005e-05\n",
      "--------------------------\n",
      "120th iteration\n",
      "Loss: 1.391761916191836e-05\n",
      "--------------------------\n",
      "130th iteration\n",
      "Loss: 1.3238021983386083e-05\n",
      "--------------------------\n",
      "140th iteration\n",
      "Loss: 1.2591605900058589e-05\n",
      "--------------------------\n",
      "150th iteration\n",
      "Loss: 1.1976757468334931e-05\n",
      "--------------------------\n",
      "160th iteration\n",
      "Loss: 1.1391931456716797e-05\n",
      "--------------------------\n",
      "170th iteration\n",
      "Loss: 1.0835660850250228e-05\n",
      "--------------------------\n",
      "180th iteration\n",
      "Loss: 1.0306554122041511e-05\n",
      "--------------------------\n",
      "190th iteration\n",
      "Loss: 9.803286138310163e-06\n",
      "--------------------------\n",
      "200th iteration\n",
      "Loss: 9.324589972936614e-06\n",
      "--------------------------\n",
      "210th iteration\n",
      "Loss: 8.869270549882735e-06\n",
      "--------------------------\n",
      "220th iteration\n",
      "Loss: 8.436182815318993e-06\n",
      "--------------------------\n",
      "230th iteration\n",
      "Loss: 8.024243561055577e-06\n",
      "--------------------------\n",
      "240th iteration\n",
      "Loss: 7.63241778212187e-06\n",
      "--------------------------\n",
      "250th iteration\n",
      "Loss: 7.259725952724061e-06\n",
      "--------------------------\n",
      "260th iteration\n",
      "Loss: 6.905233567056079e-06\n",
      "--------------------------\n",
      "270th iteration\n",
      "Loss: 6.56805068455224e-06\n",
      "CPU times: user 135 ms, sys: 50.5 ms, total: 185 ms\n",
      "Wall time: 153 ms\n"
     ]
    },
    {
     "data": {
      "text/plain": [
       "LogisticRegression(\n",
       "    intercept=-0.002499999999999999,\n",
       "    coefs=[0.0012528652, 0.0012528652],\n",
       "    C=1.0,\n",
       "    lr=0.01,\n",
       "    verbose=True,\n",
       ")"
      ]
     },
     "execution_count": 10,
     "metadata": {},
     "output_type": "execute_result"
    }
   ],
   "source": [
    "%time log_reg.fit(X, y)"
   ]
  },
  {
   "cell_type": "markdown",
   "metadata": {},
   "source": [
    "### Evaluating the model"
   ]
  },
  {
   "cell_type": "code",
   "execution_count": 11,
   "metadata": {},
   "outputs": [
    {
     "name": "stdout",
     "output_type": "stream",
     "text": [
      "Accuracy score: 1.0\n"
     ]
    }
   ],
   "source": [
    "log_reg.evaluate(X, y)"
   ]
  },
  {
   "cell_type": "code",
   "execution_count": null,
   "metadata": {},
   "outputs": [],
   "source": []
  },
  {
   "cell_type": "code",
   "execution_count": null,
   "metadata": {},
   "outputs": [],
   "source": []
  },
  {
   "cell_type": "code",
   "execution_count": null,
   "metadata": {},
   "outputs": [],
   "source": []
  }
 ],
 "metadata": {
  "kernelspec": {
   "display_name": "Python 3",
   "language": "python",
   "name": "python3"
  },
  "language_info": {
   "codemirror_mode": {
    "name": "ipython",
    "version": 3
   },
   "file_extension": ".py",
   "mimetype": "text/x-python",
   "name": "python",
   "nbconvert_exporter": "python",
   "pygments_lexer": "ipython3",
   "version": "3.7.0"
  }
 },
 "nbformat": 4,
 "nbformat_minor": 2
}
