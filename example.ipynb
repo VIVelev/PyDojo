{
 "cells": [
  {
   "cell_type": "code",
   "execution_count": 1,
   "metadata": {},
   "outputs": [],
   "source": [
    "import numpy as np\n",
    "from dojo.linear import (\n",
    "    LinearRegression,\n",
    "    LogisticRegression,\n",
    ")"
   ]
  },
  {
   "cell_type": "markdown",
   "metadata": {},
   "source": [
    "***"
   ]
  },
  {
   "cell_type": "markdown",
   "metadata": {},
   "source": [
    "# Linear Regression"
   ]
  },
  {
   "cell_type": "code",
   "execution_count": 2,
   "metadata": {},
   "outputs": [],
   "source": [
    "linear_reg = LinearRegression(verbose=True)"
   ]
  },
  {
   "cell_type": "code",
   "execution_count": 3,
   "metadata": {},
   "outputs": [
    {
     "data": {
      "text/plain": [
       "LinearRegression(\n",
       "    intercept=0,\n",
       "    coefs=[],\n",
       "    verbose=True,\n",
       ")"
      ]
     },
     "execution_count": 3,
     "metadata": {},
     "output_type": "execute_result"
    }
   ],
   "source": [
    "linear_reg"
   ]
  },
  {
   "cell_type": "markdown",
   "metadata": {},
   "source": [
    "### Data"
   ]
  },
  {
   "cell_type": "code",
   "execution_count": 4,
   "metadata": {},
   "outputs": [],
   "source": [
    "X = np.random.randn(100_000, 100)\n",
    "y = X @ np.random.rand(100)"
   ]
  },
  {
   "cell_type": "markdown",
   "metadata": {},
   "source": [
    "### Fitting the model"
   ]
  },
  {
   "cell_type": "code",
   "execution_count": 5,
   "metadata": {
    "scrolled": false
   },
   "outputs": [
    {
     "name": "stdout",
     "output_type": "stream",
     "text": [
      "-----------------------------------------\n",
      "Fitting...\n",
      "The model has been fitted successfully!\n",
      "-----------------------------------------\n",
      "CPU times: user 421 ms, sys: 115 ms, total: 535 ms\n",
      "Wall time: 313 ms\n"
     ]
    },
    {
     "data": {
      "text/plain": [
       "LinearRegression(\n",
       "    intercept=3.122502256758253e-17,\n",
       "    coefs=[0.4696659695283638, 0.3881724971724814, 0.8897535103385991, 0.30360418522628285, 0.7623248256884934, 0.732282997945092, 0.5182718359525685, 0.4810797953366852, 0.6342165008335353, 0.9981042169622572, 0.30920438006906426, 0.424457794675898, 0.5064649220038394, 0.07087379176055586, 0.6386276657280641, 0.4122170824233303, 0.7014563246168448, 0.44447968670584015, 0.5820221605440954, 0.5078919025306512, 0.7223017945845688, 0.12347254201376451, 0.1792953701546121, 0.6397198467287513, 0.591638146343829, 0.04102941911802838, 0.973227204451417, 0.1863283602457368, 0.4310392537071927, 0.5989170644057392, 0.3299369618198607, 0.16552122052296225, 0.3633774531873678, 0.9355391126018353, 0.7199982343875807, 0.48199232401800096, 0.7692194995440156, 0.9608550911421732, 0.21033063859398637, 0.48370943838588387, 0.9902039320295909, 0.8910641059140156, 0.2521708554079297, 0.24664382851131078, 0.42798977233338836, 0.5925897056636898, 0.7211744367985142, 0.45236946219372565, 0.3300072756757472, 0.6193506904900434, 0.8366610178345922, 0.585581526485121, 0.30245265251394005, 0.029674513195825272, 0.11563297132818849, 0.21078824770074006, 0.091068037114176, 0.43895062270789303, 0.419643156328508, 0.39492035248989005, 0.9640361124870348, 0.13154115461395668, 0.02278027589565411, 0.7284600707361214, 0.1294689122092514, 0.5434751422743405, 0.7719143218678635, 0.8443643972651209, 0.10941914648497392, 0.3243568263079785, 0.7336015813813458, 0.9464562904661599, 0.41144174304840603, 0.7840377428868435, 0.7135731999987606, 0.8134973292406998, 0.7205810852942198, 0.13761311398475076, 0.502884795935289, 0.021414753705481272, 0.37726644543109045, 0.41489978877308964, 0.7900597975895218, 0.7540943097845422, 0.3281363735260725, 0.9475500264417187, 0.5590510571016485, 0.042065454538117705, 0.14332170971177627, 0.8380281698829007, 0.6838893116392336, 0.8853118549674621, 0.5603292724051395, 0.5852722027307836, 0.16306211545669314, 0.9392434319873607, 0.2641177464994844, 0.5408676941103422, 0.07949875327325912, 0.7754856136210474],\n",
       "    verbose=True,\n",
       ")"
      ]
     },
     "execution_count": 5,
     "metadata": {},
     "output_type": "execute_result"
    }
   ],
   "source": [
    "%time linear_reg.fit(X, y)"
   ]
  },
  {
   "cell_type": "markdown",
   "metadata": {},
   "source": [
    "### Evaluating the model"
   ]
  },
  {
   "cell_type": "code",
   "execution_count": 6,
   "metadata": {
    "scrolled": true
   },
   "outputs": [
    {
     "name": "stdout",
     "output_type": "stream",
     "text": [
      "Mean Squared Error: 1.5464215061912228e-29\n"
     ]
    }
   ],
   "source": [
    "linear_reg.evaluate(X, y)"
   ]
  },
  {
   "cell_type": "markdown",
   "metadata": {},
   "source": [
    "***"
   ]
  },
  {
   "cell_type": "markdown",
   "metadata": {},
   "source": [
    "# Logistic Regression"
   ]
  },
  {
   "cell_type": "code",
   "execution_count": 7,
   "metadata": {},
   "outputs": [],
   "source": [
    "log_reg = LogisticRegression(verbose=True)"
   ]
  },
  {
   "cell_type": "code",
   "execution_count": 8,
   "metadata": {},
   "outputs": [
    {
     "data": {
      "text/plain": [
       "LogisticRegression(\n",
       "    intercept=0,\n",
       "    coefs=[],\n",
       "    C=1.0,\n",
       "    lr=0.01,\n",
       "    verbose=True,\n",
       ")"
      ]
     },
     "execution_count": 8,
     "metadata": {},
     "output_type": "execute_result"
    }
   ],
   "source": [
    "log_reg"
   ]
  },
  {
   "cell_type": "markdown",
   "metadata": {},
   "source": [
    "### Data"
   ]
  },
  {
   "cell_type": "code",
   "execution_count": 9,
   "metadata": {},
   "outputs": [],
   "source": [
    "X = np.array(\n",
    "    [[1, 1],\n",
    "    [1, 0],\n",
    "    [0, 1],\n",
    "    [0, 0]]\n",
    ")\n",
    "\n",
    "y = np.array([1 if x[0] and x[1] else 0 for x in X])"
   ]
  },
  {
   "cell_type": "markdown",
   "metadata": {},
   "source": [
    "### Fitting the model"
   ]
  },
  {
   "cell_type": "code",
   "execution_count": 10,
   "metadata": {},
   "outputs": [
    {
     "name": "stdout",
     "output_type": "stream",
     "text": [
      "CPU times: user 152 ms, sys: 2.94 ms, total: 155 ms\n",
      "Wall time: 165 ms\n"
     ]
    },
    {
     "data": {
      "text/plain": [
       "LogisticRegression(\n",
       "    intercept=[-0.51886246],\n",
       "    coefs=[0.22556922290439743, 0.2937372915481089],\n",
       "    C=1.0,\n",
       "    lr=0.01,\n",
       "    verbose=True,\n",
       ")"
      ]
     },
     "execution_count": 10,
     "metadata": {},
     "output_type": "execute_result"
    }
   ],
   "source": [
    "%time log_reg.fit(X, y)"
   ]
  },
  {
   "cell_type": "markdown",
   "metadata": {},
   "source": [
    "### Evaluating the model"
   ]
  },
  {
   "cell_type": "code",
   "execution_count": 15,
   "metadata": {},
   "outputs": [
    {
     "data": {
      "text/plain": [
       "[array([0.])]"
      ]
     },
     "execution_count": 15,
     "metadata": {},
     "output_type": "execute_result"
    }
   ],
   "source": [
    "log_reg.predict([[1, 0]])"
   ]
  },
  {
   "cell_type": "code",
   "execution_count": null,
   "metadata": {},
   "outputs": [],
   "source": []
  },
  {
   "cell_type": "code",
   "execution_count": null,
   "metadata": {},
   "outputs": [],
   "source": []
  },
  {
   "cell_type": "code",
   "execution_count": null,
   "metadata": {},
   "outputs": [],
   "source": []
  }
 ],
 "metadata": {
  "kernelspec": {
   "display_name": "Python 3",
   "language": "python",
   "name": "python3"
  },
  "language_info": {
   "codemirror_mode": {
    "name": "ipython",
    "version": 3
   },
   "file_extension": ".py",
   "mimetype": "text/x-python",
   "name": "python",
   "nbconvert_exporter": "python",
   "pygments_lexer": "ipython3",
   "version": "3.7.0"
  }
 },
 "nbformat": 4,
 "nbformat_minor": 2
}
