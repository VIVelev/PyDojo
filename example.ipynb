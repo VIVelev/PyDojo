{
 "cells": [
  {
   "cell_type": "code",
   "execution_count": 1,
   "metadata": {},
   "outputs": [],
   "source": [
    "import numpy as np\n",
    "from dojo.linear import (\n",
    "    LinearRegression,\n",
    "    LogisticRegression,\n",
    ")"
   ]
  },
  {
   "cell_type": "markdown",
   "metadata": {},
   "source": [
    "***"
   ]
  },
  {
   "cell_type": "markdown",
   "metadata": {},
   "source": [
    "# Linear Regression"
   ]
  },
  {
   "cell_type": "code",
   "execution_count": 2,
   "metadata": {},
   "outputs": [],
   "source": [
    "linear_reg = LinearRegression(verbose=True)"
   ]
  },
  {
   "cell_type": "code",
   "execution_count": 3,
   "metadata": {},
   "outputs": [
    {
     "data": {
      "text/plain": [
       "LinearRegression(\n",
       "    intercept=0,\n",
       "    coefs=[],\n",
       "    verbose=True,\n",
       ")"
      ]
     },
     "execution_count": 3,
     "metadata": {},
     "output_type": "execute_result"
    }
   ],
   "source": [
    "linear_reg"
   ]
  },
  {
   "cell_type": "markdown",
   "metadata": {},
   "source": [
    "### Data"
   ]
  },
  {
   "cell_type": "code",
   "execution_count": 4,
   "metadata": {},
   "outputs": [],
   "source": [
    "X = np.random.randn(100_000, 100)\n",
    "y = X @ np.random.rand(100)"
   ]
  },
  {
   "cell_type": "markdown",
   "metadata": {},
   "source": [
    "### Fitting the model"
   ]
  },
  {
   "cell_type": "code",
   "execution_count": 5,
   "metadata": {
    "scrolled": false
   },
   "outputs": [
    {
     "name": "stdout",
     "output_type": "stream",
     "text": [
      "-----------------------------------------\n",
      "Fitting...\n",
      "The model has been fitted successfully!\n",
      "-----------------------------------------\n",
      "CPU times: user 336 ms, sys: 107 ms, total: 443 ms\n",
      "Wall time: 306 ms\n"
     ]
    },
    {
     "data": {
      "text/plain": [
       "LinearRegression(\n",
       "    intercept=6.245004513516506e-17,\n",
       "    coefs=[0.7350408858327162, 0.2352001561337723, 0.43614109880059826, 0.29981001875540353, 0.8510954737008334, 0.8092035045341776, 0.09652946880631356, 0.5338419048783923, 0.04969298422166578, 0.7922487019177618, 0.7651598937559531, 0.06742044302777653, 0.7297018893774582, 0.9847634434638344, 0.9292423994758712, 0.38279082561106775, 0.35408956907733286, 0.18733242175089407, 0.4440459528788988, 0.3840189739475816, 0.15102961797471662, 0.8801072382423204, 0.883477354438208, 0.6067614400401506, 0.8937682493683977, 0.8309428612911819, 0.42933248290083587, 0.7527158953120336, 0.5004809787021819, 0.22878108208764586, 0.5082316393763288, 0.3225757153168636, 0.26291336271641147, 0.4845404453069436, 0.9077799933201863, 0.11420648681142442, 0.41235233396463894, 0.09040398746951853, 0.6107103943845749, 0.9955372491609541, 0.44816896164791464, 0.4549911385613472, 0.33224794602251184, 0.7045264861942848, 0.3444273638492099, 0.70702535360809, 0.7733570375676629, 0.7966348700461521, 0.7782496571866722, 0.8965726598683774, 0.4145155074074346, 0.4741091573881829, 0.8428657937696702, 0.3082236704429744, 0.4512273308560048, 0.23736501255192863, 0.15710147224758123, 0.9417132771230697, 0.3369539679183066, 0.5109051391558662, 0.30196788014943426, 0.7200321254543689, 0.015736721505287557, 0.775403761069776, 0.3703180244201562, 0.6179858723131832, 0.4708710193046401, 0.24758102467649423, 0.7265362483265687, 0.511687360706848, 0.5175775524361861, 0.417528250728561, 0.218952945982307, 0.9506161480281126, 0.2785309513445291, 0.5715366855286181, 0.8982129296750181, 0.35752454989670723, 0.9589200065791639, 0.50249622864376, 0.6479396812676452, 0.6102159399980708, 0.806034937656643, 0.8810698055649124, 0.6295943536035015, 0.9900645455033943, 0.9891830185196638, 0.45333841922040335, 0.2873932211883764, 0.7705716943791331, 0.135904917361045, 0.4306249062972453, 0.23359870483430806, 0.9428265488747093, 0.6459600149433286, 0.5407978634452516, 0.008914734024989946, 0.6741553959680605, 0.16092277495065027, 0.8968981609709313],\n",
       "    verbose=True,\n",
       ")"
      ]
     },
     "execution_count": 5,
     "metadata": {},
     "output_type": "execute_result"
    }
   ],
   "source": [
    "%time linear_reg.fit(X, y)"
   ]
  },
  {
   "cell_type": "markdown",
   "metadata": {},
   "source": [
    "### Evaluating the model"
   ]
  },
  {
   "cell_type": "code",
   "execution_count": 6,
   "metadata": {
    "scrolled": true
   },
   "outputs": [
    {
     "name": "stdout",
     "output_type": "stream",
     "text": [
      "Mean Squared Error: 1.927421649893957e-29\n"
     ]
    }
   ],
   "source": [
    "linear_reg.evaluate(X, y)"
   ]
  },
  {
   "cell_type": "markdown",
   "metadata": {},
   "source": [
    "***"
   ]
  },
  {
   "cell_type": "markdown",
   "metadata": {},
   "source": [
    "# Logistic Regression"
   ]
  },
  {
   "cell_type": "code",
   "execution_count": 7,
   "metadata": {},
   "outputs": [],
   "source": [
    "log_reg = LogisticRegression(verbose=True)"
   ]
  },
  {
   "cell_type": "code",
   "execution_count": 8,
   "metadata": {},
   "outputs": [
    {
     "data": {
      "text/plain": [
       "LogisticRegression(\n",
       "    intercept=0,\n",
       "    coefs=[],\n",
       "    verbose=True,\n",
       "    X=[],\n",
       "    y=[],\n",
       ")"
      ]
     },
     "execution_count": 8,
     "metadata": {},
     "output_type": "execute_result"
    }
   ],
   "source": [
    "log_reg"
   ]
  },
  {
   "cell_type": "markdown",
   "metadata": {},
   "source": [
    "### Data"
   ]
  },
  {
   "cell_type": "code",
   "execution_count": 9,
   "metadata": {},
   "outputs": [],
   "source": [
    "X = np.array(\n",
    "    [[1, 1],\n",
    "    [1, 0],\n",
    "    [0, 1],\n",
    "    [0, 0]]\n",
    ")\n",
    "\n",
    "y = np.array([1 if x[0] and x[1] else 0 for x in X])"
   ]
  },
  {
   "cell_type": "markdown",
   "metadata": {},
   "source": [
    "### Fitting the model"
   ]
  },
  {
   "cell_type": "code",
   "execution_count": 10,
   "metadata": {},
   "outputs": [
    {
     "name": "stdout",
     "output_type": "stream",
     "text": [
      "Optimization terminated successfully.\n",
      "         Current function value: 10.361633\n",
      "         Iterations: 0\n",
      "         Function evaluations: 5\n",
      "         Gradient evaluations: 1\n",
      "CPU times: user 2.54 ms, sys: 1.66 ms, total: 4.21 ms\n",
      "Wall time: 2.86 ms\n"
     ]
    },
    {
     "data": {
      "text/plain": [
       "LogisticRegression(\n",
       "    intercept=0.32954607899631505,\n",
       "    coefs=[0.6830151761918074, 0.19002493205557436],\n",
       "    verbose=True,\n",
       "    X=[[1 1]\n",
       " [1 0]\n",
       " [0 1]\n",
       " [0 0]],\n",
       "    y=[1 0 0 0],\n",
       ")"
      ]
     },
     "execution_count": 10,
     "metadata": {},
     "output_type": "execute_result"
    }
   ],
   "source": [
    "%time log_reg.fit(X, y)"
   ]
  },
  {
   "cell_type": "markdown",
   "metadata": {},
   "source": [
    "### Evaluating the model"
   ]
  },
  {
   "cell_type": "code",
   "execution_count": 16,
   "metadata": {},
   "outputs": [
    {
     "data": {
      "text/plain": [
       "[1.0]"
      ]
     },
     "execution_count": 16,
     "metadata": {},
     "output_type": "execute_result"
    }
   ],
   "source": [
    "log_reg.predict([[1, 0]])"
   ]
  },
  {
   "cell_type": "code",
   "execution_count": null,
   "metadata": {},
   "outputs": [],
   "source": []
  }
 ],
 "metadata": {
  "kernelspec": {
   "display_name": "Python 3",
   "language": "python",
   "name": "python3"
  },
  "language_info": {
   "codemirror_mode": {
    "name": "ipython",
    "version": 3
   },
   "file_extension": ".py",
   "mimetype": "text/x-python",
   "name": "python",
   "nbconvert_exporter": "python",
   "pygments_lexer": "ipython3",
   "version": "3.7.0"
  }
 },
 "nbformat": 4,
 "nbformat_minor": 2
}
