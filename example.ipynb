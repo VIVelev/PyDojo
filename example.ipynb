{
 "cells": [
  {
   "cell_type": "code",
   "execution_count": 1,
   "metadata": {},
   "outputs": [],
   "source": [
    "import numpy as np\n",
    "from dojo.linear import LinearRegression"
   ]
  },
  {
   "cell_type": "code",
   "execution_count": 2,
   "metadata": {},
   "outputs": [],
   "source": [
    "model = LinearRegression()"
   ]
  },
  {
   "cell_type": "code",
   "execution_count": 3,
   "metadata": {},
   "outputs": [
    {
     "data": {
      "text/plain": [
       "LinearRegression(\n",
       "    intercept=0,\n",
       "    coefs=[],\n",
       "    verbose=False,\n",
       ")"
      ]
     },
     "execution_count": 3,
     "metadata": {},
     "output_type": "execute_result"
    }
   ],
   "source": [
    "model"
   ]
  },
  {
   "cell_type": "markdown",
   "metadata": {},
   "source": [
    "## Data"
   ]
  },
  {
   "cell_type": "code",
   "execution_count": 4,
   "metadata": {},
   "outputs": [],
   "source": [
    "X = np.random.randn(100_000, 100)\n",
    "y = X @ np.random.rand(100)"
   ]
  },
  {
   "cell_type": "markdown",
   "metadata": {},
   "source": [
    "## Fitting the model"
   ]
  },
  {
   "cell_type": "code",
   "execution_count": 5,
   "metadata": {
    "scrolled": false
   },
   "outputs": [
    {
     "name": "stdout",
     "output_type": "stream",
     "text": [
      "CPU times: user 330 ms, sys: 74.8 ms, total: 405 ms\n",
      "Wall time: 260 ms\n"
     ]
    },
    {
     "data": {
      "text/plain": [
       "LinearRegression(\n",
       "    intercept=5.594483210025203e-17,\n",
       "    coefs=[0.9338631470657817, 0.5392809017016159, 0.6013035226830978, 0.22595937958618864, 0.7561406765392333, 0.17844991160819879, 0.19713430938461846, 0.5002280266346137, 0.06091465851969441, 0.6763524888588742, 0.783133264635068, 0.1796686804623725, 0.7690617725567702, 0.8644578450906184, 0.0757526585795101, 0.856114540678623, 0.18935154372412888, 0.7930189309783242, 0.5377458543153871, 0.47255865934232266, 0.40083589936119834, 0.680950171913484, 0.9485831702865324, 0.8327842351904188, 0.33087711740095394, 0.18096993824039634, 0.6341720492778286, 0.9962950972077556, 0.5647057790014611, 0.6100492932265351, 0.39979933332565953, 0.610488002660508, 0.6092122625683718, 0.8708877802119612, 0.2630558890945504, 0.8471677915500353, 0.4883797510470932, 0.3163286183691383, 0.35666474942718623, 0.5951587081078435, 0.35145226556619386, 0.03618194506017487, 0.7556445251343672, 0.5135710520225011, 0.7780052612949669, 0.43106650504720034, 0.7109937536286496, 0.8746996034577814, 0.574396580092303, 0.6119966645602735, 0.7434401743593897, 0.20469527521524356, 0.28935097920023883, 0.8933393145729602, 0.9199499554498394, 0.6996126116311744, 0.5521023382020738, 0.8720613970286949, 0.26102747332091386, 0.883054723818952, 0.7013340220012377, 0.8306419923144983, 0.22881104431022403, 0.786959408418677, 0.7583454523160919, 0.02884904529356777, 0.9731374540529065, 0.8192738109065066, 0.9993233398167072, 0.29430323348445736, 0.8924671542815186, 0.36907108890175616, 0.8275351832794051, 0.07183584575255897, 0.5226103258098307, 0.5857218116500535, 0.5280664815806704, 0.7037973895924845, 0.463649344634503, 0.8265295593166414, 0.8730617213761003, 0.6774691549476206, 0.08508337225059201, 0.30343988246404013, 0.786889394754119, 0.5857858537799382, 0.3909787598445711, 0.4383191902795057, 0.35778980668292426, 0.9947735669511791, 0.2126032011001492, 0.8232490229207985, 0.6476341947348769, 0.5663163178473618, 0.47322803965727533, 0.08526843017836272, 0.9221688080112987, 0.08223025856289597, 0.26209175204425356, 0.6360560950696715],\n",
       "    verbose=False,\n",
       ")"
      ]
     },
     "execution_count": 5,
     "metadata": {},
     "output_type": "execute_result"
    }
   ],
   "source": [
    "%time model.fit(X, y)"
   ]
  },
  {
   "cell_type": "code",
   "execution_count": 6,
   "metadata": {},
   "outputs": [],
   "source": [
    "y_pred = model.predict(X)"
   ]
  },
  {
   "cell_type": "code",
   "execution_count": 7,
   "metadata": {},
   "outputs": [
    {
     "name": "stdout",
     "output_type": "stream",
     "text": [
      "Mean Squared Error: 1.7386290134844945e-29\n"
     ]
    }
   ],
   "source": [
    "model.evaluate(X, y)"
   ]
  },
  {
   "cell_type": "code",
   "execution_count": null,
   "metadata": {},
   "outputs": [],
   "source": []
  }
 ],
 "metadata": {
  "kernelspec": {
   "display_name": "Python 3",
   "language": "python",
   "name": "python3"
  },
  "language_info": {
   "codemirror_mode": {
    "name": "ipython",
    "version": 3
   },
   "file_extension": ".py",
   "mimetype": "text/x-python",
   "name": "python",
   "nbconvert_exporter": "python",
   "pygments_lexer": "ipython3",
   "version": "3.7.0"
  }
 },
 "nbformat": 4,
 "nbformat_minor": 2
}
