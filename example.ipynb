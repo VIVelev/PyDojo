{
 "cells": [
  {
   "cell_type": "code",
   "execution_count": 1,
   "metadata": {},
   "outputs": [],
   "source": [
    "import numpy as np\n",
    "from dojo.linear import LinearRegression"
   ]
  },
  {
   "cell_type": "code",
   "execution_count": 2,
   "metadata": {},
   "outputs": [],
   "source": [
    "model = LinearRegression()"
   ]
  },
  {
   "cell_type": "code",
   "execution_count": 3,
   "metadata": {},
   "outputs": [
    {
     "data": {
      "text/plain": [
       "LinearRegression(\n",
       "    intercept=0,\n",
       "    coefs=[],\n",
       "    verbose=False,\n",
       ")"
      ]
     },
     "execution_count": 3,
     "metadata": {},
     "output_type": "execute_result"
    }
   ],
   "source": [
    "model"
   ]
  },
  {
   "cell_type": "markdown",
   "metadata": {},
   "source": [
    "## Data"
   ]
  },
  {
   "cell_type": "code",
   "execution_count": 4,
   "metadata": {},
   "outputs": [],
   "source": [
    "X = np.random.randn(100_000, 100)\n",
    "y = X @ np.random.rand(100)"
   ]
  },
  {
   "cell_type": "markdown",
   "metadata": {},
   "source": [
    "## Fitting the model"
   ]
  },
  {
   "cell_type": "code",
   "execution_count": 5,
   "metadata": {
    "scrolled": false
   },
   "outputs": [
    {
     "name": "stdout",
     "output_type": "stream",
     "text": [
      "CPU times: user 328 ms, sys: 72.6 ms, total: 401 ms\n",
      "Wall time: 250 ms\n"
     ]
    },
    {
     "data": {
      "text/plain": [
       "LinearRegression(\n",
       "    intercept=3.252606517456513e-17,\n",
       "    coefs=[0.2988674134556063, 0.4376382636482266, 0.6033627751998158, 0.823546861151264, 0.5996939835896741, 0.7275137475043333, 0.54778254021725, 0.21740463912970828, 0.19731689699259006, 0.5961516694617959, 0.5524839610317018, 0.6789090822711255, 0.5251346763305664, 0.6000337556454803, 0.8030224208711051, 0.7312971724556118, 0.7906360779345243, 0.39347409079303847, 0.4363589557265856, 0.2323026097681528, 0.9328194893583336, 0.25230332634018227, 0.46874773238552264, 0.5086792666667256, 0.5699908543075258, 0.22956902091820242, 0.7726783119824311, 0.8266680856526338, 0.4593795036836984, 0.11271091399104494, 0.18085426995707055, 0.7549479301589634, 0.15409307433929495, 0.08494238530701247, 0.5725703230848714, 0.536898085418632, 0.6642489110520672, 0.5268478995050299, 0.3331269846432986, 0.1253800256282775, 0.8105478563227959, 0.873904777370564, 0.44581806744060676, 0.3637111731987153, 0.30184385124186425, 0.5357281705747289, 0.06453764285905722, 0.9568296599520002, 0.8833752081111026, 0.07691355349585846, 0.36639992159593976, 0.7252065358021442, 0.4579992091791169, 0.39677147961811626, 0.058986381016424116, 0.7576315094554378, 0.8083034525676858, 0.9178598235726352, 0.9170148521969954, 0.5833692099090056, 0.04612470719861237, 0.19995679674989894, 0.07181735245260251, 0.664140294132141, 0.10338478588425809, 0.7098297326376533, 0.3144624127994429, 0.5692787897443156, 0.3004743187562457, 0.6382471529626874, 0.20120679942313768, 0.6986180880845984, 0.9196198729349769, 0.5504870984615342, 0.4675026689283468, 0.330756156625536, 0.9446942449546287, 0.8403543022784973, 0.7443574142740396, 0.7298575590126485, 0.26319635770661504, 0.15786729759372828, 0.09866469883370302, 0.5930043871676848, 0.49295675138438333, 0.3668174812756009, 0.6924946693928191, 0.1598539901690593, 0.5753123352908074, 0.8253616550966115, 0.6911437649791328, 0.7080329589987451, 0.8462712148555279, 0.05482098781364478, 0.043300307239491576, 0.9588296375045865, 0.9040395080755779, 0.43672901991522833, 0.23796911925455225, 0.33697237758659],\n",
       "    verbose=False,\n",
       ")"
      ]
     },
     "execution_count": 5,
     "metadata": {},
     "output_type": "execute_result"
    }
   ],
   "source": [
    "%time model.fit(X, y)"
   ]
  },
  {
   "cell_type": "code",
   "execution_count": 6,
   "metadata": {},
   "outputs": [],
   "source": [
    "y_pred = model.predict(X)"
   ]
  },
  {
   "cell_type": "code",
   "execution_count": 7,
   "metadata": {},
   "outputs": [
    {
     "data": {
      "text/plain": [
       "1.3502350773075458e-24"
      ]
     },
     "execution_count": 7,
     "metadata": {},
     "output_type": "execute_result"
    }
   ],
   "source": [
    "# Squared Error\n",
    "sum((y_pred - y)**2)"
   ]
  },
  {
   "cell_type": "code",
   "execution_count": null,
   "metadata": {},
   "outputs": [],
   "source": []
  }
 ],
 "metadata": {
  "kernelspec": {
   "display_name": "Python 3",
   "language": "python",
   "name": "python3"
  },
  "language_info": {
   "codemirror_mode": {
    "name": "ipython",
    "version": 3
   },
   "file_extension": ".py",
   "mimetype": "text/x-python",
   "name": "python",
   "nbconvert_exporter": "python",
   "pygments_lexer": "ipython3",
   "version": "3.7.0"
  }
 },
 "nbformat": 4,
 "nbformat_minor": 2
}
