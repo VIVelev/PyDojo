{
 "cells": [
  {
   "cell_type": "code",
   "execution_count": 1,
   "metadata": {},
   "outputs": [],
   "source": [
    "import numpy as np\n",
    "from dojo.linear import (\n",
    "    LinearRegression,\n",
    "    LogisticRegression,\n",
    ")"
   ]
  },
  {
   "cell_type": "markdown",
   "metadata": {},
   "source": [
    "***"
   ]
  },
  {
   "cell_type": "markdown",
   "metadata": {},
   "source": [
    "# Linear Regression"
   ]
  },
  {
   "cell_type": "code",
   "execution_count": 2,
   "metadata": {},
   "outputs": [],
   "source": [
    "linear_reg = LinearRegression(verbose=True)"
   ]
  },
  {
   "cell_type": "code",
   "execution_count": 3,
   "metadata": {},
   "outputs": [
    {
     "data": {
      "text/plain": [
       "LinearRegression(\n",
       "    intercept=0,\n",
       "    coefs=[],\n",
       "    verbose=True,\n",
       ")"
      ]
     },
     "execution_count": 3,
     "metadata": {},
     "output_type": "execute_result"
    }
   ],
   "source": [
    "linear_reg"
   ]
  },
  {
   "cell_type": "markdown",
   "metadata": {},
   "source": [
    "### Data"
   ]
  },
  {
   "cell_type": "code",
   "execution_count": 4,
   "metadata": {},
   "outputs": [],
   "source": [
    "X = np.random.randn(100_000, 100)\n",
    "y = X @ np.random.rand(100)"
   ]
  },
  {
   "cell_type": "markdown",
   "metadata": {},
   "source": [
    "### Fitting the model"
   ]
  },
  {
   "cell_type": "code",
   "execution_count": 5,
   "metadata": {
    "scrolled": false
   },
   "outputs": [
    {
     "name": "stdout",
     "output_type": "stream",
     "text": [
      "-----------------------------------------\n",
      "Fitting...\n",
      "The model has been fitted successfully!\n",
      "-----------------------------------------\n",
      "CPU times: user 340 ms, sys: 87.2 ms, total: 427 ms\n",
      "Wall time: 285 ms\n"
     ]
    },
    {
     "data": {
      "text/plain": [
       "LinearRegression(\n",
       "    intercept=1.3547540519964762e-10,\n",
       "    coefs=[0.19390974780658501, 0.6164348145001235, 0.9754170456519802, 0.6444890507695143, 0.8747269508003682, 0.2833436421123142, 0.8854368072696582, 0.2961602642733737, 0.2843198800685935, 0.7624222802186191, 0.5715700671772751, 0.5610969669727394, 0.1897089865017343, 0.4224256363088764, 0.5115533659423191, 0.818635294256166, 0.08777589045550173, 0.4112038869902211, 0.06324653331170015, 0.3727720356820507, 0.05267282600921465, 0.9061436725325678, 0.2224322971257031, 0.3797008752961707, 0.5679405037268854, 0.341029382724781, 0.6995793374236478, 0.5399735354968767, 0.7211069981217577, 0.3579769424561751, 0.9657654866015396, 0.11145335674366216, 0.6413537070081408, 0.6453501494217092, 0.4154067693261693, 0.18358037724598789, 0.12219280781614991, 0.07073691631132574, 0.5145179491586498, 0.7663659325896803, 0.9868659095644595, 0.9055268273805076, 0.056957462598618655, 0.8069602064621422, 0.27712947116417275, 0.7467419805421344, 0.5057481552231321, 0.6135622448324551, 0.7319097072301457, 0.08379379988511554, 0.38008836489423947, 0.6989807868616563, 0.4797379095329205, 0.12299645925708282, 0.613075929652685, 0.15881062739678015, 0.41505566990931625, 0.8914467575749782, 0.6687815010866073, 0.9566587897525938, 0.33069642845983405, 0.7754703664876736, 0.49609065105674255, 0.544258078084503, 0.20210743710809828, 0.6074304379399809, 0.8609584695094489, 0.5961632452185124, 0.17343001565558092, 0.7456174715535568, 0.24861700091231018, 0.1611756154019862, 0.2881305890470656, 0.9519130672250238, 0.3339882626422871, 0.454255934729557, 0.8460262310170298, 0.496269168675151, 0.16252793763452764, 0.4344445391366819, 0.5876001001629502, 0.263764587363305, 0.467192440841717, 0.4889957991344657, 0.7327334335003743, 0.2506619861638576, 0.7121713913496034, 0.07143820815181115, 0.4468969573250964, 0.30580762899226294, 0.24267289085717766, 0.29545008291783337, 0.8774099827060644, 0.8831918147149425, 0.24175010481115877, 0.6479187736684114, 0.19657939004514968, 0.6769551280737716, 0.914206125275701, 0.7345704156270526],\n",
       "    verbose=True,\n",
       ")"
      ]
     },
     "execution_count": 5,
     "metadata": {},
     "output_type": "execute_result"
    }
   ],
   "source": [
    "%time linear_reg.fit(X, y)"
   ]
  },
  {
   "cell_type": "markdown",
   "metadata": {},
   "source": [
    "### Evaluating the model"
   ]
  },
  {
   "cell_type": "code",
   "execution_count": 6,
   "metadata": {
    "scrolled": true
   },
   "outputs": [
    {
     "name": "stdout",
     "output_type": "stream",
     "text": [
      "Mean Squared Error: 4.1285461370534426e-14\n"
     ]
    }
   ],
   "source": [
    "linear_reg.evaluate(X, y)"
   ]
  },
  {
   "cell_type": "markdown",
   "metadata": {},
   "source": [
    "***"
   ]
  },
  {
   "cell_type": "markdown",
   "metadata": {},
   "source": [
    "# Logistic Regression"
   ]
  },
  {
   "cell_type": "code",
   "execution_count": 7,
   "metadata": {},
   "outputs": [],
   "source": [
    "log_reg = LogisticRegression(verbose=True)"
   ]
  },
  {
   "cell_type": "code",
   "execution_count": 8,
   "metadata": {},
   "outputs": [
    {
     "data": {
      "text/plain": [
       "LogisticRegression(\n",
       "    intercept=0,\n",
       "    coefs=[],\n",
       "    C=1.0,\n",
       "    lr=0.01,\n",
       "    verbose=True,\n",
       ")"
      ]
     },
     "execution_count": 8,
     "metadata": {},
     "output_type": "execute_result"
    }
   ],
   "source": [
    "log_reg"
   ]
  },
  {
   "cell_type": "markdown",
   "metadata": {},
   "source": [
    "### Data"
   ]
  },
  {
   "cell_type": "code",
   "execution_count": 9,
   "metadata": {},
   "outputs": [],
   "source": [
    "X = np.array(\n",
    "    [[1, 1],\n",
    "    [1, 0],\n",
    "    [0, 1],\n",
    "    [0, 0]]\n",
    ")\n",
    "\n",
    "y = np.array([1 if x[0] and x[1] else 0 for x in X])"
   ]
  },
  {
   "cell_type": "markdown",
   "metadata": {},
   "source": [
    "### Fitting the model"
   ]
  },
  {
   "cell_type": "code",
   "execution_count": 10,
   "metadata": {},
   "outputs": [
    {
     "name": "stdout",
     "output_type": "stream",
     "text": [
      "CPU times: user 68.7 ms, sys: 3.21 ms, total: 71.9 ms\n",
      "Wall time: 70.7 ms\n"
     ]
    },
    {
     "data": {
      "text/plain": [
       "LogisticRegression(\n",
       "    intercept=-0.002499999999999999,\n",
       "    coefs=[0.0012528652, 0.0012528652],\n",
       "    C=1.0,\n",
       "    lr=0.01,\n",
       "    verbose=True,\n",
       ")"
      ]
     },
     "execution_count": 10,
     "metadata": {},
     "output_type": "execute_result"
    }
   ],
   "source": [
    "%time log_reg.fit(X, y)"
   ]
  },
  {
   "cell_type": "markdown",
   "metadata": {},
   "source": [
    "### Evaluating the model"
   ]
  },
  {
   "cell_type": "code",
   "execution_count": 11,
   "metadata": {},
   "outputs": [
    {
     "data": {
      "text/plain": [
       "[0.0]"
      ]
     },
     "execution_count": 11,
     "metadata": {},
     "output_type": "execute_result"
    }
   ],
   "source": [
    "log_reg.predict([[1, 0]])"
   ]
  },
  {
   "cell_type": "code",
   "execution_count": null,
   "metadata": {},
   "outputs": [],
   "source": []
  },
  {
   "cell_type": "code",
   "execution_count": null,
   "metadata": {},
   "outputs": [],
   "source": []
  },
  {
   "cell_type": "code",
   "execution_count": null,
   "metadata": {},
   "outputs": [],
   "source": []
  }
 ],
 "metadata": {
  "kernelspec": {
   "display_name": "Python 3",
   "language": "python",
   "name": "python3"
  },
  "language_info": {
   "codemirror_mode": {
    "name": "ipython",
    "version": 3
   },
   "file_extension": ".py",
   "mimetype": "text/x-python",
   "name": "python",
   "nbconvert_exporter": "python",
   "pygments_lexer": "ipython3",
   "version": "3.7.0"
  }
 },
 "nbformat": 4,
 "nbformat_minor": 2
}
