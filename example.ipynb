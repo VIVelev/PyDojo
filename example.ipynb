{
 "cells": [
  {
   "cell_type": "code",
   "execution_count": 1,
   "metadata": {},
   "outputs": [],
   "source": [
    "import numpy as np\n",
    "from dojo.linear import (\n",
    "    LinearRegression,\n",
    "    LogisticRegression,\n",
    ")"
   ]
  },
  {
   "cell_type": "markdown",
   "metadata": {},
   "source": [
    "***"
   ]
  },
  {
   "cell_type": "markdown",
   "metadata": {},
   "source": [
    "# Linear Regression"
   ]
  },
  {
   "cell_type": "code",
   "execution_count": 2,
   "metadata": {},
   "outputs": [],
   "source": [
    "linear_reg = LinearRegression(verbose=True)"
   ]
  },
  {
   "cell_type": "code",
   "execution_count": 3,
   "metadata": {},
   "outputs": [
    {
     "data": {
      "text/plain": [
       "LinearRegression(\n",
       "    intercept=0,\n",
       "    coefs=[],\n",
       "    verbose=True,\n",
       ")"
      ]
     },
     "execution_count": 3,
     "metadata": {},
     "output_type": "execute_result"
    }
   ],
   "source": [
    "linear_reg"
   ]
  },
  {
   "cell_type": "markdown",
   "metadata": {},
   "source": [
    "### Data"
   ]
  },
  {
   "cell_type": "code",
   "execution_count": 4,
   "metadata": {},
   "outputs": [],
   "source": [
    "X = np.random.randn(100_000, 100)\n",
    "y = X @ np.random.rand(100)"
   ]
  },
  {
   "cell_type": "markdown",
   "metadata": {},
   "source": [
    "### Fitting the model"
   ]
  },
  {
   "cell_type": "code",
   "execution_count": 5,
   "metadata": {
    "scrolled": false
   },
   "outputs": [
    {
     "name": "stdout",
     "output_type": "stream",
     "text": [
      "-----------------------------------------\n",
      "Fitting...\n",
      "The model has been fitted successfully!\n",
      "-----------------------------------------\n",
      "CPU times: user 423 ms, sys: 102 ms, total: 525 ms\n",
      "Wall time: 297 ms\n"
     ]
    },
    {
     "data": {
      "text/plain": [
       "LinearRegression(\n",
       "    intercept=-5.16585000037012e-10,\n",
       "    coefs=[0.7911772090959623, 0.7728227137578766, 0.19019719272046517, 0.6990350576133295, 0.3376222406098906, 0.45778494761728666, 0.5795334481515021, 0.4656014143306523, 0.9192088676220563, 0.9514311387626092, 0.6574595619860621, 0.6409883491900751, 0.3485919994048902, 0.5630777625241733, 0.39170538853416653, 0.8900894166203008, 0.18703946225069223, 0.013619524401286982, 0.5319426355705914, 0.1857875546408744, 0.9502500882664109, 0.40643389094740806, 0.15295034999191862, 0.7973212782289626, 0.42347880989663717, 0.26719341194917, 0.34291860204847135, 0.11367784226655074, 0.0565444782586229, 0.7021660427763914, 0.3172337930522066, 0.8709886597698905, 0.00511151316211426, 0.05031573588783221, 0.017574067088117155, 0.2992138807818848, 0.3792878599289195, 0.07917139495836552, 0.6967244079941742, 0.7076256665942386, 0.2930149276064977, 0.6101803829387968, 0.50478070567363, 0.5330448364153475, 0.12635067148979703, 0.7306910317609848, 0.8710993324513303, 0.7279119471465445, 0.7838480904936171, 0.10782886827650941, 0.852286885577184, 0.07474223527500239, 0.8172888959565767, 0.5374485709244141, 0.8543960885701676, 0.8192405918333063, 0.6260091596720038, 0.18463002303712314, 0.7349354129909922, 0.8866468166805349, 0.8978968340614013, 0.340143394155623, 0.3339373952416498, 0.07108077189896121, 0.8573547799724451, 0.5072441746927203, 0.2593874884847387, 0.08129198333549559, 0.7797253835430259, 0.21573722971869652, 0.18450199891384583, 0.9610385592168725, 0.5879252451961777, 0.725193954356087, 0.448836916557476, 0.6565667719556421, 0.4582248374575164, 0.37251198991824197, 0.9274160324212127, 0.8949682153675419, 0.5397660659334504, 0.6877547513083909, 0.6674924854317266, 0.4402491642563511, 0.11108827753623596, 0.8157190089821473, 0.6196875508388183, 0.7405610543477068, 0.629204621607005, 0.015960923983841316, 0.7395858418199037, 0.7369954616158763, 0.5949172858618854, 0.9630337145369856, 0.23430350762048152, 0.47150869347685737, 0.6447224861228347, 0.20530899129347835, 0.11312556415533988, 0.5861602141255894],\n",
       "    verbose=True,\n",
       ")"
      ]
     },
     "execution_count": 5,
     "metadata": {},
     "output_type": "execute_result"
    }
   ],
   "source": [
    "%time linear_reg.fit(X, y)"
   ]
  },
  {
   "cell_type": "markdown",
   "metadata": {},
   "source": [
    "### Evaluating the model"
   ]
  },
  {
   "cell_type": "code",
   "execution_count": 6,
   "metadata": {
    "scrolled": true
   },
   "outputs": [
    {
     "name": "stdout",
     "output_type": "stream",
     "text": [
      "Mean Squared Error: 4.359662438574153e-14\n"
     ]
    }
   ],
   "source": [
    "linear_reg.evaluate(X, y)"
   ]
  },
  {
   "cell_type": "markdown",
   "metadata": {},
   "source": [
    "***"
   ]
  },
  {
   "cell_type": "markdown",
   "metadata": {},
   "source": [
    "# Logistic Regression"
   ]
  },
  {
   "cell_type": "code",
   "execution_count": 7,
   "metadata": {},
   "outputs": [],
   "source": [
    "log_reg = LogisticRegression(verbose=True)"
   ]
  },
  {
   "cell_type": "code",
   "execution_count": 8,
   "metadata": {},
   "outputs": [
    {
     "data": {
      "text/plain": [
       "LogisticRegression(\n",
       "    intercept=0,\n",
       "    coefs=[],\n",
       "    C=1.0,\n",
       "    lr=0.01,\n",
       "    verbose=True,\n",
       ")"
      ]
     },
     "execution_count": 8,
     "metadata": {},
     "output_type": "execute_result"
    }
   ],
   "source": [
    "log_reg"
   ]
  },
  {
   "cell_type": "markdown",
   "metadata": {},
   "source": [
    "### Data"
   ]
  },
  {
   "cell_type": "code",
   "execution_count": 9,
   "metadata": {},
   "outputs": [],
   "source": [
    "X = np.array(\n",
    "    [[1, 1],\n",
    "    [1, 0],\n",
    "    [0, 1],\n",
    "    [0, 0]]\n",
    ")\n",
    "\n",
    "y = np.array([1 if x[0] and x[1] else 0 for x in X])"
   ]
  },
  {
   "cell_type": "markdown",
   "metadata": {},
   "source": [
    "### Fitting the model"
   ]
  },
  {
   "cell_type": "code",
   "execution_count": 10,
   "metadata": {},
   "outputs": [
    {
     "name": "stdout",
     "output_type": "stream",
     "text": [
      "--------------------------\n",
      "10th iteration\n",
      "Loss: 2.413937281697809e-05\n",
      "--------------------------\n",
      "20th iteration\n",
      "Loss: 2.2960647674596935e-05\n",
      "--------------------------\n",
      "30th iteration\n",
      "Loss: 2.1839480813912182e-05\n",
      "--------------------------\n",
      "40th iteration\n",
      "Loss: 2.0773058258316546e-05\n",
      "--------------------------\n",
      "50th iteration\n",
      "Loss: 1.9758713369344427e-05\n",
      "--------------------------\n",
      "60th iteration\n",
      "Loss: 1.8793886828905038e-05\n",
      "--------------------------\n",
      "70th iteration\n",
      "Loss: 1.7876183027953907e-05\n",
      "--------------------------\n",
      "80th iteration\n",
      "Loss: 1.7003284573990918e-05\n",
      "--------------------------\n",
      "90th iteration\n",
      "Loss: 1.6173012317710622e-05\n",
      "--------------------------\n",
      "100th iteration\n",
      "Loss: 1.538327260230954e-05\n",
      "--------------------------\n",
      "110th iteration\n",
      "Loss: 1.463210637620005e-05\n",
      "--------------------------\n",
      "120th iteration\n",
      "Loss: 1.391761916191836e-05\n",
      "--------------------------\n",
      "130th iteration\n",
      "Loss: 1.3238021983386083e-05\n",
      "--------------------------\n",
      "140th iteration\n",
      "Loss: 1.2591605900058589e-05\n",
      "--------------------------\n",
      "150th iteration\n",
      "Loss: 1.1976757468334931e-05\n",
      "--------------------------\n",
      "160th iteration\n",
      "Loss: 1.1391931456716797e-05\n",
      "--------------------------\n",
      "170th iteration\n",
      "Loss: 1.0835660850250228e-05\n",
      "--------------------------\n",
      "180th iteration\n",
      "Loss: 1.0306554122041511e-05\n",
      "--------------------------\n",
      "190th iteration\n",
      "Loss: 9.803286138310163e-06\n",
      "--------------------------\n",
      "200th iteration\n",
      "Loss: 9.324589972936614e-06\n",
      "--------------------------\n",
      "210th iteration\n",
      "Loss: 8.869270549882735e-06\n",
      "--------------------------\n",
      "220th iteration\n",
      "Loss: 8.436182815318993e-06\n",
      "--------------------------\n",
      "230th iteration\n",
      "Loss: 8.024243561055577e-06\n",
      "--------------------------\n",
      "240th iteration\n",
      "Loss: 7.63241778212187e-06\n",
      "--------------------------\n",
      "250th iteration\n",
      "Loss: 7.259725952724061e-06\n",
      "--------------------------\n",
      "260th iteration\n",
      "Loss: 6.905233567056079e-06\n",
      "--------------------------\n",
      "270th iteration\n",
      "Loss: 6.56805068455224e-06\n",
      "CPU times: user 125 ms, sys: 37.3 ms, total: 162 ms\n",
      "Wall time: 146 ms\n"
     ]
    },
    {
     "data": {
      "text/plain": [
       "LogisticRegression(\n",
       "    intercept=-0.002499999999999999,\n",
       "    coefs=[0.0012528652, 0.0012528652],\n",
       "    C=1.0,\n",
       "    lr=0.01,\n",
       "    verbose=True,\n",
       ")"
      ]
     },
     "execution_count": 10,
     "metadata": {},
     "output_type": "execute_result"
    }
   ],
   "source": [
    "%time log_reg.fit(X, y)"
   ]
  },
  {
   "cell_type": "markdown",
   "metadata": {},
   "source": [
    "### Evaluating the model"
   ]
  },
  {
   "cell_type": "code",
   "execution_count": 11,
   "metadata": {},
   "outputs": [
    {
     "data": {
      "text/plain": [
       "[0.0]"
      ]
     },
     "execution_count": 11,
     "metadata": {},
     "output_type": "execute_result"
    }
   ],
   "source": [
    "log_reg.predict([[1, 0]])"
   ]
  },
  {
   "cell_type": "code",
   "execution_count": null,
   "metadata": {},
   "outputs": [],
   "source": []
  },
  {
   "cell_type": "code",
   "execution_count": null,
   "metadata": {},
   "outputs": [],
   "source": []
  },
  {
   "cell_type": "code",
   "execution_count": null,
   "metadata": {},
   "outputs": [],
   "source": []
  }
 ],
 "metadata": {
  "kernelspec": {
   "display_name": "Python 3",
   "language": "python",
   "name": "python3"
  },
  "language_info": {
   "codemirror_mode": {
    "name": "ipython",
    "version": 3
   },
   "file_extension": ".py",
   "mimetype": "text/x-python",
   "name": "python",
   "nbconvert_exporter": "python",
   "pygments_lexer": "ipython3",
   "version": "3.7.0"
  }
 },
 "nbformat": 4,
 "nbformat_minor": 2
}
