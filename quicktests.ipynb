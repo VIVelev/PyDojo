{
 "cells": [
  {
   "cell_type": "markdown",
   "metadata": {},
   "source": [
    "## Necessary imports"
   ]
  },
  {
   "cell_type": "code",
   "execution_count": 15,
   "metadata": {},
   "outputs": [],
   "source": [
    "import numpy as np\n",
    "\n",
    "from dojo.tree import ClassificationTree\n",
    "from sklearn.datasets import load_iris"
   ]
  },
  {
   "cell_type": "markdown",
   "metadata": {},
   "source": [
    "## Loading data"
   ]
  },
  {
   "cell_type": "code",
   "execution_count": 16,
   "metadata": {},
   "outputs": [],
   "source": [
    "iris = load_iris()\n",
    "data = np.column_stack((iris[\"data\"], iris[\"target\"]))\n",
    "np.random.shuffle(data)\n",
    "\n",
    "X, y = data[:, :-1], data[:, -1]\n",
    "\n",
    "train_size = int(150*0.7)\n",
    "X_train, X_test, y_train, y_test = X[:train_size], X[train_size:], y[:train_size], y[train_size:]"
   ]
  },
  {
   "cell_type": "markdown",
   "metadata": {},
   "source": [
    "## Building the model"
   ]
  },
  {
   "cell_type": "code",
   "execution_count": 17,
   "metadata": {},
   "outputs": [],
   "source": [
    "tree = ClassificationTree(max_depth=3)\n",
    "tree.fit(X_train, y_train)"
   ]
  },
  {
   "cell_type": "code",
   "execution_count": 18,
   "metadata": {},
   "outputs": [
    {
     "data": {
      "text/plain": [
       "ClassificationTree(\n",
       "    criterion='gini',\n",
       "    max_depth=3,\n",
       "    root=<dojo.tree.utils.structure.Node object at 0x10fa94ba8>,\n",
       ")"
      ]
     },
     "execution_count": 18,
     "metadata": {},
     "output_type": "execute_result"
    }
   ],
   "source": [
    "tree"
   ]
  },
  {
   "cell_type": "markdown",
   "metadata": {},
   "source": [
    "## You can now easily visualize the tree itself with a simple call of a method!"
   ]
  },
  {
   "cell_type": "code",
   "execution_count": 19,
   "metadata": {},
   "outputs": [
    {
     "name": "stdout",
     "output_type": "stream",
     "text": [
      " Is feature[3] >= 1.0?\n",
      " --> True:\n",
      "   Is feature[3] >= 1.8?\n",
      "   --> True:\n",
      "     Prediction: 2.0\n",
      "   --> False:\n",
      "     Prediction: 1.0\n",
      " --> False:\n",
      "   Prediction: 0.0\n"
     ]
    }
   ],
   "source": [
    "tree.visualize()"
   ]
  },
  {
   "cell_type": "markdown",
   "metadata": {},
   "source": [
    "## Let's predict some probabilities"
   ]
  },
  {
   "cell_type": "code",
   "execution_count": 20,
   "metadata": {},
   "outputs": [
    {
     "data": {
      "text/plain": [
       "[{2.0: 0.10256410256410256, 1.0: 0.8974358974358975},\n",
       " {2.0: 0.10256410256410256, 1.0: 0.8974358974358975},\n",
       " {2.0: 1.0},\n",
       " {0.0: 1.0},\n",
       " {0.0: 1.0},\n",
       " {2.0: 0.10256410256410256, 1.0: 0.8974358974358975},\n",
       " {0.0: 1.0},\n",
       " {2.0: 0.10256410256410256, 1.0: 0.8974358974358975},\n",
       " {2.0: 0.10256410256410256, 1.0: 0.8974358974358975},\n",
       " {2.0: 0.10256410256410256, 1.0: 0.8974358974358975},\n",
       " {0.0: 1.0},\n",
       " {0.0: 1.0},\n",
       " {0.0: 1.0},\n",
       " {2.0: 0.10256410256410256, 1.0: 0.8974358974358975},\n",
       " {2.0: 1.0},\n",
       " {2.0: 1.0},\n",
       " {0.0: 1.0},\n",
       " {2.0: 0.10256410256410256, 1.0: 0.8974358974358975},\n",
       " {2.0: 1.0},\n",
       " {2.0: 0.10256410256410256, 1.0: 0.8974358974358975},\n",
       " {2.0: 1.0},\n",
       " {2.0: 1.0},\n",
       " {2.0: 1.0},\n",
       " {2.0: 0.10256410256410256, 1.0: 0.8974358974358975},\n",
       " {0.0: 1.0},\n",
       " {2.0: 0.10256410256410256, 1.0: 0.8974358974358975},\n",
       " {2.0: 0.10256410256410256, 1.0: 0.8974358974358975},\n",
       " {2.0: 1.0},\n",
       " {0.0: 1.0},\n",
       " {0.0: 1.0},\n",
       " {0.0: 1.0},\n",
       " {2.0: 1.0},\n",
       " {2.0: 1.0},\n",
       " {0.0: 1.0},\n",
       " {2.0: 1.0},\n",
       " {2.0: 1.0},\n",
       " {0.0: 1.0},\n",
       " {2.0: 0.10256410256410256, 1.0: 0.8974358974358975},\n",
       " {2.0: 1.0},\n",
       " {0.0: 1.0},\n",
       " {2.0: 0.10256410256410256, 1.0: 0.8974358974358975},\n",
       " {0.0: 1.0},\n",
       " {2.0: 0.10256410256410256, 1.0: 0.8974358974358975},\n",
       " {0.0: 1.0},\n",
       " {2.0: 1.0}]"
      ]
     },
     "execution_count": 20,
     "metadata": {},
     "output_type": "execute_result"
    }
   ],
   "source": [
    "tree.predict_proba(X_test)"
   ]
  },
  {
   "cell_type": "markdown",
   "metadata": {},
   "source": [
    "## Evaluating the model"
   ]
  },
  {
   "cell_type": "code",
   "execution_count": 21,
   "metadata": {},
   "outputs": [
    {
     "name": "stdout",
     "output_type": "stream",
     "text": [
      "Accuracy score: 0.9619047619047619\n"
     ]
    }
   ],
   "source": [
    "tree.evaluate(X_train, y_train)"
   ]
  },
  {
   "cell_type": "code",
   "execution_count": null,
   "metadata": {},
   "outputs": [],
   "source": []
  }
 ],
 "metadata": {
  "kernelspec": {
   "display_name": "Python 3",
   "language": "python",
   "name": "python3"
  },
  "language_info": {
   "codemirror_mode": {
    "name": "ipython",
    "version": 3
   },
   "file_extension": ".py",
   "mimetype": "text/x-python",
   "name": "python",
   "nbconvert_exporter": "python",
   "pygments_lexer": "ipython3",
   "version": "3.7.0"
  }
 },
 "nbformat": 4,
 "nbformat_minor": 2
}
