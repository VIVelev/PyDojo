{
 "cells": [
  {
   "cell_type": "markdown",
   "metadata": {},
   "source": [
    "## Necessary imports"
   ]
  },
  {
   "cell_type": "code",
   "execution_count": 1,
   "metadata": {},
   "outputs": [
    {
     "ename": "Exception",
     "evalue": "LIBSVM library not found.",
     "output_type": "error",
     "traceback": [
      "\u001b[0;31m---------------------------------------------------------------------------\u001b[0m",
      "\u001b[0;31mOSError\u001b[0m                                   Traceback (most recent call last)",
      "\u001b[0;32m~/.local/share/virtualenvs/PyDojoML-tk6tf1R-/lib/python3.7/site-packages/dojo/svm/libsvm/svm.py\u001b[0m in \u001b[0;36m<module>\u001b[0;34m\u001b[0m\n\u001b[1;32m     29\u001b[0m         \u001b[0;32melse\u001b[0m\u001b[0;34m:\u001b[0m\u001b[0;34m\u001b[0m\u001b[0m\n\u001b[0;32m---> 30\u001b[0;31m                 \u001b[0mlibsvm\u001b[0m \u001b[0;34m=\u001b[0m \u001b[0mCDLL\u001b[0m\u001b[0;34m(\u001b[0m\u001b[0mpath\u001b[0m\u001b[0;34m.\u001b[0m\u001b[0mjoin\u001b[0m\u001b[0;34m(\u001b[0m\u001b[0mdirname\u001b[0m\u001b[0;34m,\u001b[0m \u001b[0;34m'./libsvm.so.2'\u001b[0m\u001b[0;34m)\u001b[0m\u001b[0;34m)\u001b[0m\u001b[0;34m\u001b[0m\u001b[0m\n\u001b[0m\u001b[1;32m     31\u001b[0m \u001b[0;32mexcept\u001b[0m\u001b[0;34m:\u001b[0m\u001b[0;34m\u001b[0m\u001b[0m\n",
      "\u001b[0;32m/usr/local/Cellar/python/3.7.0/Frameworks/Python.framework/Versions/3.7/lib/python3.7/ctypes/__init__.py\u001b[0m in \u001b[0;36m__init__\u001b[0;34m(self, name, mode, handle, use_errno, use_last_error)\u001b[0m\n\u001b[1;32m    355\u001b[0m         \u001b[0;32mif\u001b[0m \u001b[0mhandle\u001b[0m \u001b[0;32mis\u001b[0m \u001b[0;32mNone\u001b[0m\u001b[0;34m:\u001b[0m\u001b[0;34m\u001b[0m\u001b[0m\n\u001b[0;32m--> 356\u001b[0;31m             \u001b[0mself\u001b[0m\u001b[0;34m.\u001b[0m\u001b[0m_handle\u001b[0m \u001b[0;34m=\u001b[0m \u001b[0m_dlopen\u001b[0m\u001b[0;34m(\u001b[0m\u001b[0mself\u001b[0m\u001b[0;34m.\u001b[0m\u001b[0m_name\u001b[0m\u001b[0;34m,\u001b[0m \u001b[0mmode\u001b[0m\u001b[0;34m)\u001b[0m\u001b[0;34m\u001b[0m\u001b[0m\n\u001b[0m\u001b[1;32m    357\u001b[0m         \u001b[0;32melse\u001b[0m\u001b[0;34m:\u001b[0m\u001b[0;34m\u001b[0m\u001b[0m\n",
      "\u001b[0;31mOSError\u001b[0m: dlopen(/Users/victor/.local/share/virtualenvs/PyDojoML-tk6tf1R-/lib/python3.7/site-packages/dojo/svm/libsvm/./libsvm.so.2, 6): image not found",
      "\nDuring handling of the above exception, another exception occurred:\n",
      "\u001b[0;31mException\u001b[0m                                 Traceback (most recent call last)",
      "\u001b[0;32m<ipython-input-1-4a73efc22e4c>\u001b[0m in \u001b[0;36m<module>\u001b[0;34m\u001b[0m\n\u001b[1;32m      1\u001b[0m \u001b[0;32mimport\u001b[0m \u001b[0mnumpy\u001b[0m \u001b[0;32mas\u001b[0m \u001b[0mnp\u001b[0m\u001b[0;34m\u001b[0m\u001b[0m\n\u001b[1;32m      2\u001b[0m \u001b[0;34m\u001b[0m\u001b[0m\n\u001b[0;32m----> 3\u001b[0;31m \u001b[0;32mfrom\u001b[0m \u001b[0mdojo\u001b[0m\u001b[0;34m.\u001b[0m\u001b[0mtree\u001b[0m \u001b[0;32mimport\u001b[0m \u001b[0mClassificationTree\u001b[0m\u001b[0;34m\u001b[0m\u001b[0m\n\u001b[0m\u001b[1;32m      4\u001b[0m \u001b[0;32mfrom\u001b[0m \u001b[0msklearn\u001b[0m\u001b[0;34m.\u001b[0m\u001b[0mdatasets\u001b[0m \u001b[0;32mimport\u001b[0m \u001b[0mload_iris\u001b[0m\u001b[0;34m\u001b[0m\u001b[0m\n",
      "\u001b[0;32m~/.local/share/virtualenvs/PyDojoML-tk6tf1R-/lib/python3.7/site-packages/dojo/__init__.py\u001b[0m in \u001b[0;36m<module>\u001b[0;34m\u001b[0m\n\u001b[1;32m      1\u001b[0m \u001b[0;32mimport\u001b[0m \u001b[0mos\u001b[0m\u001b[0;34m\u001b[0m\u001b[0m\n\u001b[1;32m      2\u001b[0m \u001b[0;34m\u001b[0m\u001b[0m\n\u001b[0;32m----> 3\u001b[0;31m from . import (\n\u001b[0m\u001b[1;32m      4\u001b[0m     \u001b[0mbase\u001b[0m\u001b[0;34m,\u001b[0m\u001b[0;34m\u001b[0m\u001b[0m\n\u001b[1;32m      5\u001b[0m     \u001b[0mcluster\u001b[0m\u001b[0;34m,\u001b[0m\u001b[0;34m\u001b[0m\u001b[0m\n",
      "\u001b[0;32m~/.local/share/virtualenvs/PyDojoML-tk6tf1R-/lib/python3.7/site-packages/dojo/svm/__init__.py\u001b[0m in \u001b[0;36m<module>\u001b[0;34m\u001b[0m\n\u001b[0;32m----> 1\u001b[0;31m \u001b[0;32mfrom\u001b[0m \u001b[0;34m.\u001b[0m\u001b[0mclassification\u001b[0m \u001b[0;32mimport\u001b[0m \u001b[0mNuSVC\u001b[0m\u001b[0;34m,\u001b[0m \u001b[0mSVC\u001b[0m\u001b[0;34m\u001b[0m\u001b[0m\n\u001b[0m\u001b[1;32m      2\u001b[0m \u001b[0;32mfrom\u001b[0m \u001b[0;34m.\u001b[0m\u001b[0mregression\u001b[0m \u001b[0;32mimport\u001b[0m \u001b[0mNuSVR\u001b[0m\u001b[0;34m,\u001b[0m \u001b[0mSVR\u001b[0m\u001b[0;34m\u001b[0m\u001b[0m\n\u001b[1;32m      3\u001b[0m \u001b[0;34m\u001b[0m\u001b[0m\n\u001b[1;32m      4\u001b[0m __all__ = [\n\u001b[1;32m      5\u001b[0m     \u001b[0;34m\"NuSVC\"\u001b[0m\u001b[0;34m,\u001b[0m\u001b[0;34m\u001b[0m\u001b[0m\n",
      "\u001b[0;32m~/.local/share/virtualenvs/PyDojoML-tk6tf1R-/lib/python3.7/site-packages/dojo/svm/classification/__init__.py\u001b[0m in \u001b[0;36m<module>\u001b[0;34m\u001b[0m\n\u001b[0;32m----> 1\u001b[0;31m \u001b[0;32mfrom\u001b[0m \u001b[0;34m.\u001b[0m\u001b[0mNuSVC\u001b[0m \u001b[0;32mimport\u001b[0m \u001b[0mNuSVC\u001b[0m\u001b[0;34m\u001b[0m\u001b[0m\n\u001b[0m\u001b[1;32m      2\u001b[0m \u001b[0;32mfrom\u001b[0m \u001b[0;34m.\u001b[0m\u001b[0mSVC\u001b[0m \u001b[0;32mimport\u001b[0m \u001b[0mSVC\u001b[0m\u001b[0;34m\u001b[0m\u001b[0m\n\u001b[1;32m      3\u001b[0m \u001b[0;34m\u001b[0m\u001b[0m\n\u001b[1;32m      4\u001b[0m __all__ = [\n\u001b[1;32m      5\u001b[0m     \u001b[0;34m\"NuSVC\"\u001b[0m\u001b[0;34m,\u001b[0m\u001b[0;34m\u001b[0m\u001b[0m\n",
      "\u001b[0;32m~/.local/share/virtualenvs/PyDojoML-tk6tf1R-/lib/python3.7/site-packages/dojo/svm/classification/NuSVC.py\u001b[0m in \u001b[0;36m<module>\u001b[0;34m\u001b[0m\n\u001b[0;32m----> 1\u001b[0;31m from ..utils import (\n\u001b[0m\u001b[1;32m      2\u001b[0m     \u001b[0mBaseModel\u001b[0m\u001b[0;34m,\u001b[0m\u001b[0;34m\u001b[0m\u001b[0m\n\u001b[1;32m      3\u001b[0m     \u001b[0mMethodNotSupportedError\u001b[0m\u001b[0;34m,\u001b[0m\u001b[0;34m\u001b[0m\u001b[0m\n\u001b[1;32m      4\u001b[0m \u001b[0;34m\u001b[0m\u001b[0m\n\u001b[1;32m      5\u001b[0m     \u001b[0mset_kernel\u001b[0m\u001b[0;34m,\u001b[0m\u001b[0;34m\u001b[0m\u001b[0m\n",
      "\u001b[0;32m~/.local/share/virtualenvs/PyDojoML-tk6tf1R-/lib/python3.7/site-packages/dojo/svm/utils.py\u001b[0m in \u001b[0;36m<module>\u001b[0;34m\u001b[0m\n\u001b[1;32m      2\u001b[0m \u001b[0;32mfrom\u001b[0m \u001b[0;34m.\u001b[0m\u001b[0;34m.\u001b[0m\u001b[0mexceptions\u001b[0m \u001b[0;32mimport\u001b[0m \u001b[0mMethodNotSupportedError\u001b[0m\u001b[0;34m\u001b[0m\u001b[0m\n\u001b[1;32m      3\u001b[0m \u001b[0;34m\u001b[0m\u001b[0m\n\u001b[0;32m----> 4\u001b[0;31m from .libsvm.svmutil import (\n\u001b[0m\u001b[1;32m      5\u001b[0m     \u001b[0msvm_problem\u001b[0m\u001b[0;34m,\u001b[0m\u001b[0;34m\u001b[0m\u001b[0m\n\u001b[1;32m      6\u001b[0m     \u001b[0msvm_parameter\u001b[0m\u001b[0;34m,\u001b[0m\u001b[0;34m\u001b[0m\u001b[0m\n",
      "\u001b[0;32m~/.local/share/virtualenvs/PyDojoML-tk6tf1R-/lib/python3.7/site-packages/dojo/svm/libsvm/svmutil.py\u001b[0m in \u001b[0;36m<module>\u001b[0;34m\u001b[0m\n\u001b[1;32m      3\u001b[0m \u001b[0;32mimport\u001b[0m \u001b[0mos\u001b[0m\u001b[0;34m,\u001b[0m \u001b[0msys\u001b[0m\u001b[0;34m\u001b[0m\u001b[0m\n\u001b[1;32m      4\u001b[0m \u001b[0msys\u001b[0m\u001b[0;34m.\u001b[0m\u001b[0mpath\u001b[0m \u001b[0;34m=\u001b[0m \u001b[0;34m[\u001b[0m\u001b[0mos\u001b[0m\u001b[0;34m.\u001b[0m\u001b[0mpath\u001b[0m\u001b[0;34m.\u001b[0m\u001b[0mdirname\u001b[0m\u001b[0;34m(\u001b[0m\u001b[0mos\u001b[0m\u001b[0;34m.\u001b[0m\u001b[0mpath\u001b[0m\u001b[0;34m.\u001b[0m\u001b[0mabspath\u001b[0m\u001b[0;34m(\u001b[0m\u001b[0m__file__\u001b[0m\u001b[0;34m)\u001b[0m\u001b[0;34m)\u001b[0m\u001b[0;34m]\u001b[0m \u001b[0;34m+\u001b[0m \u001b[0msys\u001b[0m\u001b[0;34m.\u001b[0m\u001b[0mpath\u001b[0m\u001b[0;34m\u001b[0m\u001b[0m\n\u001b[0;32m----> 5\u001b[0;31m \u001b[0;32mfrom\u001b[0m \u001b[0;34m.\u001b[0m\u001b[0msvm\u001b[0m \u001b[0;32mimport\u001b[0m \u001b[0;34m*\u001b[0m\u001b[0;34m\u001b[0m\u001b[0m\n\u001b[0m\u001b[1;32m      6\u001b[0m \u001b[0;32mfrom\u001b[0m \u001b[0;34m.\u001b[0m\u001b[0msvm\u001b[0m \u001b[0;32mimport\u001b[0m \u001b[0m__all__\u001b[0m \u001b[0;32mas\u001b[0m \u001b[0msvm_all\u001b[0m\u001b[0;34m\u001b[0m\u001b[0m\n\u001b[1;32m      7\u001b[0m \u001b[0;32mfrom\u001b[0m \u001b[0;34m.\u001b[0m\u001b[0msvm\u001b[0m \u001b[0;32mimport\u001b[0m \u001b[0mscipy\u001b[0m\u001b[0;34m,\u001b[0m \u001b[0msparse\u001b[0m\u001b[0;34m\u001b[0m\u001b[0m\n",
      "\u001b[0;32m~/.local/share/virtualenvs/PyDojoML-tk6tf1R-/lib/python3.7/site-packages/dojo/svm/libsvm/svm.py\u001b[0m in \u001b[0;36m<module>\u001b[0;34m\u001b[0m\n\u001b[1;32m     36\u001b[0m                 \u001b[0mlibsvm\u001b[0m \u001b[0;34m=\u001b[0m \u001b[0mCDLL\u001b[0m\u001b[0;34m(\u001b[0m\u001b[0mfind_library\u001b[0m\u001b[0;34m(\u001b[0m\u001b[0;34m'libsvm'\u001b[0m\u001b[0;34m)\u001b[0m\u001b[0;34m)\u001b[0m\u001b[0;34m\u001b[0m\u001b[0m\n\u001b[1;32m     37\u001b[0m         \u001b[0;32melse\u001b[0m\u001b[0;34m:\u001b[0m\u001b[0;34m\u001b[0m\u001b[0m\n\u001b[0;32m---> 38\u001b[0;31m                 \u001b[0;32mraise\u001b[0m \u001b[0mException\u001b[0m\u001b[0;34m(\u001b[0m\u001b[0;34m'LIBSVM library not found.'\u001b[0m\u001b[0;34m)\u001b[0m\u001b[0;34m\u001b[0m\u001b[0m\n\u001b[0m\u001b[1;32m     39\u001b[0m \u001b[0;34m\u001b[0m\u001b[0m\n\u001b[1;32m     40\u001b[0m \u001b[0mC_SVC\u001b[0m \u001b[0;34m=\u001b[0m \u001b[0;36m0\u001b[0m\u001b[0;34m\u001b[0m\u001b[0m\n",
      "\u001b[0;31mException\u001b[0m: LIBSVM library not found."
     ]
    }
   ],
   "source": [
    "import numpy as np\n",
    "\n",
    "from dojo.tree import ClassificationTree\n",
    "from sklearn.datasets import load_iris"
   ]
  },
  {
   "cell_type": "markdown",
   "metadata": {},
   "source": [
    "## Loading data"
   ]
  },
  {
   "cell_type": "code",
   "execution_count": 2,
   "metadata": {},
   "outputs": [],
   "source": [
    "iris = load_iris()\n",
    "data = np.column_stack((iris[\"data\"], iris[\"target\"]))\n",
    "np.random.shuffle(data)\n",
    "\n",
    "X, y = data[:, :-1], data[:, -1]\n",
    "\n",
    "train_size = int(150*0.7)\n",
    "X_train, X_test, y_train, y_test = X[:train_size], X[train_size:], y[:train_size], y[train_size:]"
   ]
  },
  {
   "cell_type": "markdown",
   "metadata": {},
   "source": [
    "## Building the model"
   ]
  },
  {
   "cell_type": "code",
   "execution_count": 3,
   "metadata": {},
   "outputs": [
    {
     "data": {
      "text/plain": [
       "ClassificationTree(\n",
       "    criterion='gini',\n",
       "    max_depth=-1,\n",
       "    root=<dojo.tree.utils.structure.Node object at 0x110fbfda0>,\n",
       ")"
      ]
     },
     "execution_count": 3,
     "metadata": {},
     "output_type": "execute_result"
    }
   ],
   "source": [
    "tree = ClassificationTree()\n",
    "tree.fit(X_train, y_train)"
   ]
  },
  {
   "cell_type": "code",
   "execution_count": 4,
   "metadata": {},
   "outputs": [
    {
     "data": {
      "text/plain": [
       "ClassificationTree(\n",
       "    criterion='gini',\n",
       "    max_depth=-1,\n",
       "    root=<dojo.tree.utils.structure.Node object at 0x110fbfda0>,\n",
       ")"
      ]
     },
     "execution_count": 4,
     "metadata": {},
     "output_type": "execute_result"
    }
   ],
   "source": [
    "tree"
   ]
  },
  {
   "cell_type": "markdown",
   "metadata": {},
   "source": [
    "## You can now easily visualize the tree itself with a simple call of a method!"
   ]
  },
  {
   "cell_type": "code",
   "execution_count": 5,
   "metadata": {},
   "outputs": [
    {
     "name": "stdout",
     "output_type": "stream",
     "text": [
      " Is feature[3] >= 1.0?\n",
      " --> True:\n",
      "   Is feature[3] >= 1.8?\n",
      "   --> True:\n",
      "     Prediction: 2.0\n",
      "   --> False:\n",
      "     Is feature[2] >= 5.6?\n",
      "     --> True:\n",
      "       Prediction: 2.0\n",
      "     --> False:\n",
      "       Prediction: 1.0\n",
      " --> False:\n",
      "   Prediction: 0.0\n"
     ]
    }
   ],
   "source": [
    "tree.visualize()"
   ]
  },
  {
   "cell_type": "markdown",
   "metadata": {},
   "source": [
    "## Let's predict some probabilities"
   ]
  },
  {
   "cell_type": "code",
   "execution_count": 6,
   "metadata": {},
   "outputs": [
    {
     "data": {
      "text/plain": [
       "array([array([1.]), array([0.02941176, 0.97058824]), array([1.]),\n",
       "       array([0.94871795, 0.05128205]), array([1.]),\n",
       "       array([0.02941176, 0.97058824]), array([0.02941176, 0.97058824]),\n",
       "       array([1.]), array([1.]), array([0.02941176, 0.97058824]),\n",
       "       array([1.]), array([1.]), array([0.94871795, 0.05128205]),\n",
       "       array([1.]), array([0.94871795, 0.05128205]),\n",
       "       array([0.94871795, 0.05128205]), array([0.02941176, 0.97058824]),\n",
       "       array([1.]), array([0.94871795, 0.05128205]),\n",
       "       array([0.94871795, 0.05128205]), array([1.]), array([1.]),\n",
       "       array([0.02941176, 0.97058824]), array([1.]), array([1.]),\n",
       "       array([0.94871795, 0.05128205]), array([0.94871795, 0.05128205]),\n",
       "       array([0.02941176, 0.97058824]), array([1.]), array([1.]),\n",
       "       array([0.94871795, 0.05128205]), array([0.94871795, 0.05128205]),\n",
       "       array([0.94871795, 0.05128205]), array([0.02941176, 0.97058824]),\n",
       "       array([1.]), array([1.]), array([1.]),\n",
       "       array([0.94871795, 0.05128205]), array([1.]),\n",
       "       array([0.02941176, 0.97058824]), array([0.02941176, 0.97058824]),\n",
       "       array([0.02941176, 0.97058824]), array([0.94871795, 0.05128205]),\n",
       "       array([1.]), array([0.02941176, 0.97058824])], dtype=object)"
      ]
     },
     "execution_count": 6,
     "metadata": {},
     "output_type": "execute_result"
    }
   ],
   "source": [
    "tree.predict_proba(X_test)"
   ]
  },
  {
   "cell_type": "markdown",
   "metadata": {},
   "source": [
    "## Evaluating the model"
   ]
  },
  {
   "cell_type": "code",
   "execution_count": 7,
   "metadata": {},
   "outputs": [
    {
     "name": "stdout",
     "output_type": "stream",
     "text": [
      "Accuracy score: 0.9777777777777777\n"
     ]
    }
   ],
   "source": [
    "tree.evaluate(X_test, y_test)"
   ]
  },
  {
   "cell_type": "markdown",
   "metadata": {},
   "source": [
    "## AdaBoost"
   ]
  },
  {
   "cell_type": "code",
   "execution_count": 8,
   "metadata": {},
   "outputs": [],
   "source": [
    "from dojo.ensemble import AdaBoostClassifier"
   ]
  },
  {
   "cell_type": "code",
   "execution_count": 9,
   "metadata": {},
   "outputs": [
    {
     "name": "stdout",
     "output_type": "stream",
     "text": [
      "----------------------------------\n",
      "Iteration 1\n",
      "Training classifier...\n",
      "Classifier 1 trained.\n",
      "Weighting missclassified samples...\n",
      "Shuffling the data...\n",
      "----------------------------------\n",
      "Iteration 2\n",
      "Training classifier...\n",
      "Classifier 2 trained.\n",
      "Weighting missclassified samples...\n",
      "Shuffling the data...\n",
      "----------------------------------\n",
      "Iteration 3\n",
      "Training classifier...\n",
      "Classifier 3 trained.\n",
      "Weighting missclassified samples...\n",
      "Shuffling the data...\n",
      "----------------------------------\n",
      "Iteration 4\n",
      "Training classifier...\n",
      "Classifier 4 trained.\n",
      "Weighting missclassified samples...\n",
      "Shuffling the data...\n",
      "----------------------------------\n",
      "Iteration 5\n",
      "Training classifier...\n",
      "Classifier 5 trained.\n",
      "Weighting missclassified samples...\n",
      "Shuffling the data...\n",
      "----------------------------------\n",
      "Iteration 6\n",
      "Training classifier...\n",
      "Classifier 6 trained.\n",
      "Weighting missclassified samples...\n",
      "Shuffling the data...\n",
      "----------------------------------\n",
      "Iteration 7\n",
      "Training classifier...\n",
      "Classifier 7 trained.\n",
      "Weighting missclassified samples...\n",
      "Shuffling the data...\n",
      "----------------------------------\n",
      "Iteration 8\n",
      "Training classifier...\n",
      "Classifier 8 trained.\n",
      "Weighting missclassified samples...\n",
      "Shuffling the data...\n",
      "----------------------------------\n",
      "Iteration 9\n",
      "Training classifier...\n",
      "Classifier 9 trained.\n",
      "Weighting missclassified samples...\n",
      "Shuffling the data...\n",
      "----------------------------------\n",
      "Iteration 10\n",
      "Training classifier...\n",
      "Classifier 10 trained.\n",
      "Weighting missclassified samples...\n",
      "Shuffling the data...\n",
      "----------------------------------\n",
      "Iteration 11\n",
      "Training classifier...\n",
      "Classifier 11 trained.\n",
      "Weighting missclassified samples...\n",
      "Shuffling the data...\n",
      "----------------------------------\n",
      "Iteration 12\n",
      "Training classifier...\n",
      "Classifier 12 trained.\n",
      "Weighting missclassified samples...\n",
      "Shuffling the data...\n",
      "----------------------------------\n",
      "Iteration 13\n",
      "Training classifier...\n",
      "Classifier 13 trained.\n",
      "Weighting missclassified samples...\n",
      "Shuffling the data...\n",
      "----------------------------------\n",
      "Iteration 14\n",
      "Training classifier...\n",
      "Classifier 14 trained.\n",
      "Weighting missclassified samples...\n",
      "Shuffling the data...\n",
      "----------------------------------\n",
      "Iteration 15\n",
      "Training classifier...\n",
      "Classifier 15 trained.\n",
      "Weighting missclassified samples...\n",
      "Shuffling the data...\n",
      "----------------------------------\n",
      "Iteration 16\n",
      "Training classifier...\n",
      "Classifier 16 trained.\n",
      "Weighting missclassified samples...\n",
      "Shuffling the data...\n",
      "----------------------------------\n",
      "Iteration 17\n",
      "Training classifier...\n",
      "Classifier 17 trained.\n",
      "Weighting missclassified samples...\n",
      "Shuffling the data...\n",
      "----------------------------------\n",
      "Iteration 18\n",
      "Training classifier...\n",
      "Classifier 18 trained.\n",
      "Weighting missclassified samples...\n",
      "Shuffling the data...\n",
      "----------------------------------\n",
      "Iteration 19\n",
      "Training classifier...\n",
      "Classifier 19 trained.\n",
      "Weighting missclassified samples...\n",
      "Shuffling the data...\n",
      "----------------------------------\n",
      "Iteration 20\n",
      "Training classifier...\n",
      "Classifier 20 trained.\n",
      "Weighting missclassified samples...\n",
      "Shuffling the data...\n",
      "=================================================================\n",
      "The training session has successfully finished.\n"
     ]
    },
    {
     "data": {
      "text/plain": [
       "AdaBoostClassifier(\n",
       "    base_classifier=ClassificationTree(\n",
       "    criterion='gini',\n",
       "    max_depth=-1,\n",
       "    root=None,\n",
       "),\n",
       "    n_classifiers=20,\n",
       "    verbose=True,\n",
       ")"
      ]
     },
     "execution_count": 9,
     "metadata": {},
     "output_type": "execute_result"
    }
   ],
   "source": [
    "adaboost = AdaBoostClassifier(base_classifier=ClassificationTree(), n_classifiers=20, verbose=True)\n",
    "adaboost.fit(X_train, y_train)"
   ]
  },
  {
   "cell_type": "code",
   "execution_count": 10,
   "metadata": {},
   "outputs": [
    {
     "name": "stdout",
     "output_type": "stream",
     "text": [
      "Accuracy score: 0.9777777777777777\n"
     ]
    }
   ],
   "source": [
    "adaboost.evaluate(X_test, y_test)"
   ]
  },
  {
   "cell_type": "code",
   "execution_count": null,
   "metadata": {},
   "outputs": [],
   "source": []
  }
 ],
 "metadata": {
  "kernelspec": {
   "display_name": "Python 3",
   "language": "python",
   "name": "python3"
  },
  "language_info": {
   "codemirror_mode": {
    "name": "ipython",
    "version": 3
   },
   "file_extension": ".py",
   "mimetype": "text/x-python",
   "name": "python",
   "nbconvert_exporter": "python",
   "pygments_lexer": "ipython3",
   "version": "3.7.0"
  }
 },
 "nbformat": 4,
 "nbformat_minor": 2
}
