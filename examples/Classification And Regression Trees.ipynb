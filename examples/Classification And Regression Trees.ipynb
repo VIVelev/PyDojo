{
 "cells": [
  {
   "cell_type": "markdown",
   "metadata": {},
   "source": [
    "## Necessary imports"
   ]
  },
  {
   "cell_type": "code",
   "execution_count": 1,
   "metadata": {},
   "outputs": [],
   "source": [
    "import numpy as np\n",
    "\n",
    "from dojo.tree import ClassificationTree\n",
    "from sklearn.datasets import load_iris"
   ]
  },
  {
   "cell_type": "markdown",
   "metadata": {},
   "source": [
    "## Loading data"
   ]
  },
  {
   "cell_type": "code",
   "execution_count": 2,
   "metadata": {},
   "outputs": [],
   "source": [
    "iris = load_iris()\n",
    "data = np.column_stack((iris[\"data\"], iris[\"target\"]))\n",
    "np.random.shuffle(data)\n",
    "\n",
    "X, y = data[:, :-1], data[:, -1]\n",
    "\n",
    "train_size = int(150*0.7)\n",
    "X_train, X_test, y_train, y_test = X[:train_size], X[train_size:], y[:train_size], y[train_size:]"
   ]
  },
  {
   "cell_type": "markdown",
   "metadata": {},
   "source": [
    "## Building the model"
   ]
  },
  {
   "cell_type": "code",
   "execution_count": 3,
   "metadata": {},
   "outputs": [
    {
     "data": {
      "text/plain": [
       "ClassificationTree(\n",
       "    criterion='gini',\n",
       "    max_depth=-1,\n",
       "    root=<dojo.tree.utils.structure.Node object at 0x11b233e48>,\n",
       ")"
      ]
     },
     "execution_count": 3,
     "metadata": {},
     "output_type": "execute_result"
    }
   ],
   "source": [
    "tree = ClassificationTree()\n",
    "tree.fit(X_train, y_train)"
   ]
  },
  {
   "cell_type": "code",
   "execution_count": 4,
   "metadata": {},
   "outputs": [
    {
     "data": {
      "text/plain": [
       "ClassificationTree(\n",
       "    criterion='gini',\n",
       "    max_depth=-1,\n",
       "    root=<dojo.tree.utils.structure.Node object at 0x11b233e48>,\n",
       ")"
      ]
     },
     "execution_count": 4,
     "metadata": {},
     "output_type": "execute_result"
    }
   ],
   "source": [
    "tree"
   ]
  },
  {
   "cell_type": "markdown",
   "metadata": {},
   "source": [
    "## You can now easily visualize the tree itself with a simple call of a method!"
   ]
  },
  {
   "cell_type": "code",
   "execution_count": 5,
   "metadata": {},
   "outputs": [
    {
     "name": "stdout",
     "output_type": "stream",
     "text": [
      " Is feature[3] >= 1.0?\n",
      " --> True:\n",
      "   Is feature[3] >= 1.7?\n",
      "   --> True:\n",
      "     Prediction: 2.0\n",
      "   --> False:\n",
      "     Is feature[2] >= 5.0?\n",
      "     --> True:\n",
      "       Is feature[3] >= 1.6?\n",
      "       --> True:\n",
      "         Prediction: 1.0\n",
      "       --> False:\n",
      "         Prediction: 2.0\n",
      "     --> False:\n",
      "       Prediction: 1.0\n",
      " --> False:\n",
      "   Prediction: 0.0\n"
     ]
    }
   ],
   "source": [
    "tree.visualize()"
   ]
  },
  {
   "cell_type": "markdown",
   "metadata": {},
   "source": [
    "## Let's predict some probabilities"
   ]
  },
  {
   "cell_type": "code",
   "execution_count": 6,
   "metadata": {},
   "outputs": [
    {
     "data": {
      "text/plain": [
       "[[1.0],\n",
       " [1.0],\n",
       " [1.0],\n",
       " [1.0],\n",
       " [0.05405405405405406, 0.9459459459459459],\n",
       " [1.0],\n",
       " [1.0],\n",
       " [0.05405405405405406, 0.9459459459459459],\n",
       " [0.05405405405405406, 0.9459459459459459],\n",
       " [1.0],\n",
       " [1.0],\n",
       " [1.0],\n",
       " [0.05405405405405406, 0.9459459459459459],\n",
       " [1.0],\n",
       " [1.0],\n",
       " [1.0],\n",
       " [1.0],\n",
       " [1.0],\n",
       " [1.0],\n",
       " [1.0],\n",
       " [0.05405405405405406, 0.9459459459459459],\n",
       " [0.05405405405405406, 0.9459459459459459],\n",
       " [1.0],\n",
       " [1.0],\n",
       " [1.0],\n",
       " [0.05405405405405406, 0.9459459459459459],\n",
       " [1.0],\n",
       " [1.0],\n",
       " [1.0],\n",
       " [1.0],\n",
       " [1.0],\n",
       " [1.0],\n",
       " [1.0],\n",
       " [0.05405405405405406, 0.9459459459459459],\n",
       " [1.0],\n",
       " [0.05405405405405406, 0.9459459459459459],\n",
       " [0.05405405405405406, 0.9459459459459459],\n",
       " [1.0],\n",
       " [1.0],\n",
       " [1.0],\n",
       " [1.0],\n",
       " [1.0],\n",
       " [0.05405405405405406, 0.9459459459459459],\n",
       " [1.0],\n",
       " [1.0]]"
      ]
     },
     "execution_count": 6,
     "metadata": {},
     "output_type": "execute_result"
    }
   ],
   "source": [
    "tree.predict_proba(X_test)"
   ]
  },
  {
   "cell_type": "markdown",
   "metadata": {},
   "source": [
    "## Evaluating the model"
   ]
  },
  {
   "cell_type": "code",
   "execution_count": 7,
   "metadata": {},
   "outputs": [
    {
     "name": "stdout",
     "output_type": "stream",
     "text": [
      "Accuracy score: 0.9809523809523809\n"
     ]
    }
   ],
   "source": [
    "tree.evaluate(X_train, y_train)"
   ]
  },
  {
   "cell_type": "markdown",
   "metadata": {},
   "source": [
    "## AdaBoost"
   ]
  },
  {
   "cell_type": "code",
   "execution_count": 8,
   "metadata": {},
   "outputs": [],
   "source": [
    "from dojo.ensemble import AdaBoostClassifier"
   ]
  },
  {
   "cell_type": "code",
   "execution_count": 9,
   "metadata": {},
   "outputs": [
    {
     "name": "stdout",
     "output_type": "stream",
     "text": [
      "----------------------------------\n",
      "Iteration 1\n",
      "Training classifier...\n",
      "Classifier 1 trained.\n",
      "Weighting missclassified samples...\n",
      "Shuffling the data...\n",
      "----------------------------------\n",
      "Iteration 2\n",
      "Training classifier...\n",
      "Classifier 2 trained.\n",
      "Weighting missclassified samples...\n",
      "Shuffling the data...\n",
      "----------------------------------\n",
      "Iteration 3\n",
      "Training classifier...\n",
      "Classifier 3 trained.\n",
      "Weighting missclassified samples...\n",
      "Shuffling the data...\n",
      "----------------------------------\n",
      "Iteration 4\n",
      "Training classifier...\n",
      "Classifier 4 trained.\n",
      "Weighting missclassified samples...\n",
      "Shuffling the data...\n",
      "----------------------------------\n",
      "Iteration 5\n",
      "Training classifier...\n",
      "Classifier 5 trained.\n",
      "Weighting missclassified samples...\n",
      "Shuffling the data...\n",
      "----------------------------------\n",
      "Iteration 6\n",
      "Training classifier...\n",
      "Classifier 6 trained.\n",
      "Weighting missclassified samples...\n",
      "Shuffling the data...\n",
      "----------------------------------\n",
      "Iteration 7\n",
      "Training classifier...\n",
      "Classifier 7 trained.\n",
      "Weighting missclassified samples...\n",
      "Shuffling the data...\n",
      "----------------------------------\n",
      "Iteration 8\n",
      "Training classifier...\n",
      "Classifier 8 trained.\n",
      "Weighting missclassified samples...\n",
      "Shuffling the data...\n",
      "----------------------------------\n",
      "Iteration 9\n",
      "Training classifier...\n",
      "Classifier 9 trained.\n",
      "Weighting missclassified samples...\n",
      "Shuffling the data...\n",
      "----------------------------------\n",
      "Iteration 10\n",
      "Training classifier...\n",
      "Classifier 10 trained.\n",
      "Weighting missclassified samples...\n",
      "Shuffling the data...\n",
      "----------------------------------\n",
      "Iteration 11\n",
      "Training classifier...\n",
      "Classifier 11 trained.\n",
      "Weighting missclassified samples...\n",
      "Shuffling the data...\n",
      "----------------------------------\n",
      "Iteration 12\n",
      "Training classifier...\n",
      "Classifier 12 trained.\n",
      "Weighting missclassified samples...\n",
      "Shuffling the data...\n",
      "----------------------------------\n",
      "Iteration 13\n",
      "Training classifier...\n",
      "Classifier 13 trained.\n",
      "Weighting missclassified samples...\n",
      "Shuffling the data...\n",
      "----------------------------------\n",
      "Iteration 14\n",
      "Training classifier...\n",
      "Classifier 14 trained.\n",
      "Weighting missclassified samples...\n",
      "Shuffling the data...\n",
      "----------------------------------\n",
      "Iteration 15\n",
      "Training classifier...\n",
      "Classifier 15 trained.\n",
      "Weighting missclassified samples...\n",
      "Shuffling the data...\n",
      "----------------------------------\n",
      "Iteration 16\n",
      "Training classifier...\n",
      "Classifier 16 trained.\n",
      "Weighting missclassified samples...\n",
      "Shuffling the data...\n",
      "----------------------------------\n",
      "Iteration 17\n",
      "Training classifier...\n",
      "Classifier 17 trained.\n",
      "Weighting missclassified samples...\n",
      "Shuffling the data...\n",
      "----------------------------------\n",
      "Iteration 18\n",
      "Training classifier...\n",
      "Classifier 18 trained.\n",
      "Weighting missclassified samples...\n",
      "Shuffling the data...\n",
      "----------------------------------\n",
      "Iteration 19\n",
      "Training classifier...\n",
      "Classifier 19 trained.\n",
      "Weighting missclassified samples...\n",
      "Shuffling the data...\n",
      "----------------------------------\n",
      "Iteration 20\n",
      "Training classifier...\n",
      "Classifier 20 trained.\n",
      "Weighting missclassified samples...\n",
      "Shuffling the data...\n",
      "=================================================================\n",
      "The training session has successfully finished.\n"
     ]
    },
    {
     "data": {
      "text/plain": [
       "AdaBoostClassifier(\n",
       "    base_classifier=ClassificationTree(\n",
       "    criterion='gini',\n",
       "    max_depth=-1,\n",
       "    root=None,\n",
       "),\n",
       "    n_classifiers=20,\n",
       "    verbose=True,\n",
       ")"
      ]
     },
     "execution_count": 9,
     "metadata": {},
     "output_type": "execute_result"
    }
   ],
   "source": [
    "adaboost = AdaBoostClassifier(base_classifier=ClassificationTree(), n_classifiers=20, verbose=True)\n",
    "adaboost.fit(X_train, y_train)"
   ]
  },
  {
   "cell_type": "code",
   "execution_count": 10,
   "metadata": {},
   "outputs": [
    {
     "name": "stdout",
     "output_type": "stream",
     "text": [
      "Accuracy score: 1.0\n"
     ]
    }
   ],
   "source": [
    "adaboost.evaluate(X_test, y_test)"
   ]
  },
  {
   "cell_type": "code",
   "execution_count": null,
   "metadata": {},
   "outputs": [],
   "source": []
  }
 ],
 "metadata": {
  "kernelspec": {
   "display_name": "Python 3",
   "language": "python",
   "name": "python3"
  },
  "language_info": {
   "codemirror_mode": {
    "name": "ipython",
    "version": 3
   },
   "file_extension": ".py",
   "mimetype": "text/x-python",
   "name": "python",
   "nbconvert_exporter": "python",
   "pygments_lexer": "ipython3",
   "version": "3.7.0"
  }
 },
 "nbformat": 4,
 "nbformat_minor": 2
}
