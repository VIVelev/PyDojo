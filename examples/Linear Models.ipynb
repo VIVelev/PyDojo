{
 "cells": [
  {
   "cell_type": "code",
   "execution_count": 1,
   "metadata": {},
   "outputs": [],
   "source": [
    "import numpy as np\n",
    "from dojo.linear import (\n",
    "    LinearRegression,\n",
    "    LogisticRegression,\n",
    ")\n",
    "\n",
    "from dojo.split import cross_validate"
   ]
  },
  {
   "cell_type": "markdown",
   "metadata": {},
   "source": [
    "***"
   ]
  },
  {
   "cell_type": "markdown",
   "metadata": {},
   "source": [
    "# Linear Regression"
   ]
  },
  {
   "cell_type": "code",
   "execution_count": 2,
   "metadata": {},
   "outputs": [],
   "source": [
    "linear_reg = LinearRegression(verbose=True)"
   ]
  },
  {
   "cell_type": "code",
   "execution_count": 3,
   "metadata": {},
   "outputs": [
    {
     "data": {
      "text/plain": [
       "LinearRegression(\n",
       "    intercept=0,\n",
       "    coefs=[],\n",
       "    verbose=True,\n",
       ")"
      ]
     },
     "execution_count": 3,
     "metadata": {},
     "output_type": "execute_result"
    }
   ],
   "source": [
    "linear_reg"
   ]
  },
  {
   "cell_type": "markdown",
   "metadata": {},
   "source": [
    "### Data"
   ]
  },
  {
   "cell_type": "code",
   "execution_count": 4,
   "metadata": {},
   "outputs": [],
   "source": [
    "X = np.random.randn(100_000, 100)\n",
    "y = X @ np.random.rand(100)"
   ]
  },
  {
   "cell_type": "markdown",
   "metadata": {},
   "source": [
    "### Fitting the model"
   ]
  },
  {
   "cell_type": "code",
   "execution_count": 5,
   "metadata": {
    "scrolled": false
   },
   "outputs": [
    {
     "name": "stdout",
     "output_type": "stream",
     "text": [
      "-----------------------------------------\n",
      "Fitting...\n",
      "The model has been fitted successfully!\n",
      "-----------------------------------------\n",
      "CPU times: user 415 ms, sys: 99.1 ms, total: 514 ms\n",
      "Wall time: 307 ms\n"
     ]
    },
    {
     "data": {
      "text/plain": [
       "LinearRegression(\n",
       "    intercept=9.568411536188537e-11,\n",
       "    coefs=[0.5359624  0.90669596 0.08769128 0.03471389 0.9751686  0.8847638\n",
       " 0.09778644 0.8840839  0.48767096 0.8852817  0.10254855 0.4073901\n",
       " 0.9447048  0.05965716 0.7340117  0.00543763 0.3121656  0.42410168\n",
       " 0.18049014 0.23037066 0.04002429 0.14066492 0.5255534  0.59991777\n",
       " 0.15707354 0.6323093  0.17736726 0.20302612 0.3154386  0.86976206\n",
       " 0.76097846 0.73396176 0.8713303  0.33901352 0.0432121  0.11234244\n",
       " 0.2260153  0.71121246 0.4286458  0.6714994  0.3757596  0.7154989\n",
       " 0.54690105 0.21575296 0.0795306  0.18275826 0.32053608 0.52823496\n",
       " 0.14306505 0.9050903  0.4537341  0.7620531  0.03598974 0.21392085\n",
       " 0.86516106 0.77039057 0.7597478  0.5696606  0.5612328  0.5991802\n",
       " 0.23437668 0.15319632 0.5986374  0.3280709  0.60179096 0.32416344\n",
       " 0.36181426 0.37093106 0.41298708 0.99847823 0.78657186 0.60366124\n",
       " 0.52335453 0.9626821  0.6251079  0.25987154 0.43625638 0.20503962\n",
       " 0.2469456  0.5876156  0.9298967  0.84736645 0.5665119  0.8725506\n",
       " 0.13841294 0.25015986 0.45313644 0.3330782  0.81115335 0.92543465\n",
       " 0.00389352 0.49644098 0.6066374  0.09803244 0.7063955  0.22983916\n",
       " 0.0192046  0.5626148  0.4425886  0.2860627 ],\n",
       "    verbose=True,\n",
       ")"
      ]
     },
     "execution_count": 5,
     "metadata": {},
     "output_type": "execute_result"
    }
   ],
   "source": [
    "%time linear_reg.fit(X, y)"
   ]
  },
  {
   "cell_type": "markdown",
   "metadata": {},
   "source": [
    "### Evaluating the model"
   ]
  },
  {
   "cell_type": "code",
   "execution_count": 6,
   "metadata": {
    "scrolled": true
   },
   "outputs": [
    {
     "name": "stdout",
     "output_type": "stream",
     "text": [
      "Mean Squared Error: 2.504816798420961e-13\n"
     ]
    }
   ],
   "source": [
    "linear_reg.evaluate(X, y)"
   ]
  },
  {
   "cell_type": "code",
   "execution_count": 7,
   "metadata": {},
   "outputs": [
    {
     "data": {
      "text/plain": [
       "{'train_score': 2.319210687676507e-13, 'test_score': 2.3206823795058824e-13}"
      ]
     },
     "execution_count": 7,
     "metadata": {},
     "output_type": "execute_result"
    }
   ],
   "source": [
    "linear_reg.verbose = False\n",
    "cross_validate(linear_reg, X, y, cv=10)"
   ]
  },
  {
   "cell_type": "markdown",
   "metadata": {},
   "source": [
    "***"
   ]
  },
  {
   "cell_type": "markdown",
   "metadata": {},
   "source": [
    "# Logistic Regression"
   ]
  },
  {
   "cell_type": "code",
   "execution_count": 8,
   "metadata": {},
   "outputs": [],
   "source": [
    "log_reg = LogisticRegression(verbose=True)"
   ]
  },
  {
   "cell_type": "code",
   "execution_count": 9,
   "metadata": {},
   "outputs": [
    {
     "data": {
      "text/plain": [
       "LogisticRegression(\n",
       "    intercept=0,\n",
       "    coefs=[],\n",
       "    C=1.0,\n",
       "    lr=0.01,\n",
       "    verbose=True,\n",
       ")"
      ]
     },
     "execution_count": 9,
     "metadata": {},
     "output_type": "execute_result"
    }
   ],
   "source": [
    "log_reg"
   ]
  },
  {
   "cell_type": "markdown",
   "metadata": {},
   "source": [
    "### Data"
   ]
  },
  {
   "cell_type": "code",
   "execution_count": 10,
   "metadata": {},
   "outputs": [],
   "source": [
    "X = np.array(\n",
    "    [[1, 1],\n",
    "    [1, 0],\n",
    "    [0, 1],\n",
    "    [0, 0]]\n",
    ")\n",
    "\n",
    "y = np.array([1 if x[0] and x[1] else 0 for x in X])"
   ]
  },
  {
   "cell_type": "markdown",
   "metadata": {},
   "source": [
    "### Fitting the model"
   ]
  },
  {
   "cell_type": "code",
   "execution_count": 11,
   "metadata": {},
   "outputs": [
    {
     "name": "stdout",
     "output_type": "stream",
     "text": [
      "--------------------------\n",
      "10th iteration\n",
      "Loss: 2.413937281697809e-05\n",
      "--------------------------\n",
      "20th iteration\n",
      "Loss: 2.2960647674596935e-05\n",
      "--------------------------\n",
      "30th iteration\n",
      "Loss: 2.1839480813912182e-05\n",
      "--------------------------\n",
      "40th iteration\n",
      "Loss: 2.0773058258316546e-05\n",
      "--------------------------\n",
      "50th iteration\n",
      "Loss: 1.9758713369344427e-05\n",
      "--------------------------\n",
      "60th iteration\n",
      "Loss: 1.8793886828905038e-05\n",
      "--------------------------\n",
      "70th iteration\n",
      "Loss: 1.7876183027953907e-05\n",
      "--------------------------\n",
      "80th iteration\n",
      "Loss: 1.7003284573990918e-05\n",
      "--------------------------\n",
      "90th iteration\n",
      "Loss: 1.6173012317710622e-05\n",
      "--------------------------\n",
      "100th iteration\n",
      "Loss: 1.538327260230954e-05\n",
      "--------------------------\n",
      "110th iteration\n",
      "Loss: 1.463210637620005e-05\n",
      "--------------------------\n",
      "120th iteration\n",
      "Loss: 1.391761916191836e-05\n",
      "--------------------------\n",
      "130th iteration\n",
      "Loss: 1.3238021983386083e-05\n",
      "--------------------------\n",
      "140th iteration\n",
      "Loss: 1.2591605900058589e-05\n",
      "--------------------------\n",
      "150th iteration\n",
      "Loss: 1.1976757468334931e-05\n",
      "--------------------------\n",
      "160th iteration\n",
      "Loss: 1.1391931456716797e-05\n",
      "--------------------------\n",
      "170th iteration\n",
      "Loss: 1.0835660850250228e-05\n",
      "--------------------------\n",
      "180th iteration\n",
      "Loss: 1.0306554122041511e-05\n",
      "--------------------------\n",
      "190th iteration\n",
      "Loss: 9.803286138310163e-06\n",
      "--------------------------\n",
      "200th iteration\n",
      "Loss: 9.324589972936614e-06\n",
      "--------------------------\n",
      "210th iteration\n",
      "Loss: 8.869270549882735e-06\n",
      "--------------------------\n",
      "220th iteration\n",
      "Loss: 8.436182815318993e-06\n",
      "--------------------------\n",
      "230th iteration\n",
      "Loss: 8.024243561055577e-06\n",
      "--------------------------\n",
      "240th iteration\n",
      "Loss: 7.63241778212187e-06\n",
      "--------------------------\n",
      "250th iteration\n",
      "Loss: 7.259725952724061e-06\n",
      "--------------------------\n",
      "260th iteration\n",
      "Loss: 6.905233567056079e-06\n",
      "--------------------------\n",
      "270th iteration\n",
      "Loss: 6.56805068455224e-06\n",
      "CPU times: user 133 ms, sys: 36.6 ms, total: 170 ms\n",
      "Wall time: 137 ms\n"
     ]
    },
    {
     "data": {
      "text/plain": [
       "LogisticRegression(\n",
       "    intercept=-0.002499999999999999,\n",
       "    coefs=[0.00125287 0.00125287],\n",
       "    C=1.0,\n",
       "    lr=0.01,\n",
       "    verbose=True,\n",
       ")"
      ]
     },
     "execution_count": 11,
     "metadata": {},
     "output_type": "execute_result"
    }
   ],
   "source": [
    "%time log_reg.fit(X, y)"
   ]
  },
  {
   "cell_type": "markdown",
   "metadata": {},
   "source": [
    "### Evaluating the model"
   ]
  },
  {
   "cell_type": "code",
   "execution_count": 12,
   "metadata": {},
   "outputs": [
    {
     "name": "stdout",
     "output_type": "stream",
     "text": [
      "Accuracy score: 1.0\n"
     ]
    }
   ],
   "source": [
    "log_reg.evaluate(X, y)"
   ]
  },
  {
   "cell_type": "code",
   "execution_count": null,
   "metadata": {},
   "outputs": [],
   "source": []
  }
 ],
 "metadata": {
  "kernelspec": {
   "display_name": "Python 3",
   "language": "python",
   "name": "python3"
  },
  "language_info": {
   "codemirror_mode": {
    "name": "ipython",
    "version": 3
   },
   "file_extension": ".py",
   "mimetype": "text/x-python",
   "name": "python",
   "nbconvert_exporter": "python",
   "pygments_lexer": "ipython3",
   "version": "3.7.0"
  }
 },
 "nbformat": 4,
 "nbformat_minor": 2
}
