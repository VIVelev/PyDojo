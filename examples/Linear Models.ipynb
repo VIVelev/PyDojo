{
 "cells": [
  {
   "cell_type": "code",
   "execution_count": 1,
   "metadata": {},
   "outputs": [],
   "source": [
    "import numpy as np\n",
    "from dojo.linear import (\n",
    "    LinearRegression,\n",
    "    LogisticRegression,\n",
    ")"
   ]
  },
  {
   "cell_type": "markdown",
   "metadata": {},
   "source": [
    "***"
   ]
  },
  {
   "cell_type": "markdown",
   "metadata": {},
   "source": [
    "# Linear Regression"
   ]
  },
  {
   "cell_type": "code",
   "execution_count": 2,
   "metadata": {},
   "outputs": [],
   "source": [
    "linear_reg = LinearRegression(verbose=True)"
   ]
  },
  {
   "cell_type": "code",
   "execution_count": 3,
   "metadata": {},
   "outputs": [
    {
     "data": {
      "text/plain": [
       "LinearRegression(\n",
       "    intercept=0,\n",
       "    coefs=[],\n",
       "    verbose=True,\n",
       ")"
      ]
     },
     "execution_count": 3,
     "metadata": {},
     "output_type": "execute_result"
    }
   ],
   "source": [
    "linear_reg"
   ]
  },
  {
   "cell_type": "markdown",
   "metadata": {},
   "source": [
    "### Data"
   ]
  },
  {
   "cell_type": "code",
   "execution_count": 4,
   "metadata": {},
   "outputs": [],
   "source": [
    "X = np.random.randn(100_000, 100)\n",
    "y = X @ np.random.rand(100)"
   ]
  },
  {
   "cell_type": "markdown",
   "metadata": {},
   "source": [
    "### Fitting the model"
   ]
  },
  {
   "cell_type": "code",
   "execution_count": 5,
   "metadata": {
    "scrolled": false
   },
   "outputs": [
    {
     "name": "stdout",
     "output_type": "stream",
     "text": [
      "-----------------------------------------\n",
      "Fitting...\n",
      "The model has been fitted successfully!\n",
      "-----------------------------------------\n",
      "CPU times: user 336 ms, sys: 87.3 ms, total: 423 ms\n",
      "Wall time: 286 ms\n"
     ]
    },
    {
     "data": {
      "text/plain": [
       "LinearRegression(\n",
       "    intercept=-1.5905269861588023e-09,\n",
       "    coefs=[0.9004186  0.12250188 0.7168796  0.07518579 0.80211544 0.8051943\n",
       " 0.18862145 0.7805858  0.7149663  0.9155703  0.5801835  0.30391744\n",
       " 0.69668645 0.9128549  0.04102753 0.2364273  0.56783694 0.08944467\n",
       " 0.11492866 0.24150203 0.99644405 0.8991578  0.63087314 0.69155246\n",
       " 0.1184446  0.21956539 0.65976685 0.54156685 0.5949712  0.00278367\n",
       " 0.72678053 0.63619965 0.08505859 0.32309377 0.21061948 0.42201528\n",
       " 0.83964247 0.6765938  0.37403482 0.45082483 0.46579725 0.8509645\n",
       " 0.11613688 0.28776672 0.06742556 0.42556414 0.614031   0.8431264\n",
       " 0.23227486 0.96471965 0.6872281  0.18284829 0.70766085 0.03405002\n",
       " 0.06346014 0.14357963 0.7740974  0.34158632 0.47450045 0.95805115\n",
       " 0.48273528 0.17373335 0.99878293 0.9808395  0.78090876 0.17768139\n",
       " 0.11498439 0.0888941  0.7969919  0.83284724 0.35484698 0.79081017\n",
       " 0.53780466 0.9993563  0.10047077 0.5018821  0.64253664 0.69123733\n",
       " 0.6031423  0.7072045  0.80493355 0.51229304 0.6866399  0.97146815\n",
       " 0.6062755  0.02915999 0.94463575 0.74215543 0.9648247  0.17726651\n",
       " 0.2981838  0.8481723  0.07571136 0.38162625 0.84159154 0.8058644\n",
       " 0.21143083 0.28118777 0.51654685 0.9416555 ],\n",
       "    verbose=True,\n",
       ")"
      ]
     },
     "execution_count": 5,
     "metadata": {},
     "output_type": "execute_result"
    }
   ],
   "source": [
    "%time linear_reg.fit(X, y)"
   ]
  },
  {
   "cell_type": "markdown",
   "metadata": {},
   "source": [
    "### Evaluating the model"
   ]
  },
  {
   "cell_type": "code",
   "execution_count": 6,
   "metadata": {
    "scrolled": true
   },
   "outputs": [
    {
     "name": "stdout",
     "output_type": "stream",
     "text": [
      "Mean Squared Error: 2.9961448433368786e-13\n"
     ]
    }
   ],
   "source": [
    "linear_reg.evaluate(X, y)"
   ]
  },
  {
   "cell_type": "markdown",
   "metadata": {},
   "source": [
    "***"
   ]
  },
  {
   "cell_type": "markdown",
   "metadata": {},
   "source": [
    "# Logistic Regression"
   ]
  },
  {
   "cell_type": "code",
   "execution_count": 7,
   "metadata": {},
   "outputs": [],
   "source": [
    "log_reg = LogisticRegression(verbose=True)"
   ]
  },
  {
   "cell_type": "code",
   "execution_count": 8,
   "metadata": {},
   "outputs": [
    {
     "data": {
      "text/plain": [
       "LogisticRegression(\n",
       "    intercept=0,\n",
       "    coefs=[],\n",
       "    C=1.0,\n",
       "    lr=0.01,\n",
       "    verbose=True,\n",
       ")"
      ]
     },
     "execution_count": 8,
     "metadata": {},
     "output_type": "execute_result"
    }
   ],
   "source": [
    "log_reg"
   ]
  },
  {
   "cell_type": "markdown",
   "metadata": {},
   "source": [
    "### Data"
   ]
  },
  {
   "cell_type": "code",
   "execution_count": 9,
   "metadata": {},
   "outputs": [],
   "source": [
    "X = np.array(\n",
    "    [[1, 1],\n",
    "    [1, 0],\n",
    "    [0, 1],\n",
    "    [0, 0]]\n",
    ")\n",
    "\n",
    "y = np.array([1 if x[0] and x[1] else 0 for x in X])"
   ]
  },
  {
   "cell_type": "markdown",
   "metadata": {},
   "source": [
    "### Fitting the model"
   ]
  },
  {
   "cell_type": "code",
   "execution_count": 10,
   "metadata": {},
   "outputs": [
    {
     "name": "stdout",
     "output_type": "stream",
     "text": [
      "--------------------------\n",
      "10th iteration\n",
      "Loss: 2.413937281697809e-05\n",
      "--------------------------\n",
      "20th iteration\n",
      "Loss: 2.2960647674596935e-05\n",
      "--------------------------\n",
      "30th iteration\n",
      "Loss: 2.1839480813912182e-05\n",
      "--------------------------\n",
      "40th iteration\n",
      "Loss: 2.0773058258316546e-05\n",
      "--------------------------\n",
      "50th iteration\n",
      "Loss: 1.9758713369344427e-05\n",
      "--------------------------\n",
      "60th iteration\n",
      "Loss: 1.8793886828905038e-05\n",
      "--------------------------\n",
      "70th iteration\n",
      "Loss: 1.7876183027953907e-05\n",
      "--------------------------\n",
      "80th iteration\n",
      "Loss: 1.7003284573990918e-05\n",
      "--------------------------\n",
      "90th iteration\n",
      "Loss: 1.6173012317710622e-05\n",
      "--------------------------\n",
      "100th iteration\n",
      "Loss: 1.538327260230954e-05\n",
      "--------------------------\n",
      "110th iteration\n",
      "Loss: 1.463210637620005e-05\n",
      "--------------------------\n",
      "120th iteration\n",
      "Loss: 1.391761916191836e-05\n",
      "--------------------------\n",
      "130th iteration\n",
      "Loss: 1.3238021983386083e-05\n",
      "--------------------------\n",
      "140th iteration\n",
      "Loss: 1.2591605900058589e-05\n",
      "--------------------------\n",
      "150th iteration\n",
      "Loss: 1.1976757468334931e-05\n",
      "--------------------------\n",
      "160th iteration\n",
      "Loss: 1.1391931456716797e-05\n",
      "--------------------------\n",
      "170th iteration\n",
      "Loss: 1.0835660850250228e-05\n",
      "--------------------------\n",
      "180th iteration\n",
      "Loss: 1.0306554122041511e-05\n",
      "--------------------------\n",
      "190th iteration\n",
      "Loss: 9.803286138310163e-06\n",
      "--------------------------\n",
      "200th iteration\n",
      "Loss: 9.324589972936614e-06\n",
      "--------------------------\n",
      "210th iteration\n",
      "Loss: 8.869270549882735e-06\n",
      "--------------------------\n",
      "220th iteration\n",
      "Loss: 8.436182815318993e-06\n",
      "--------------------------\n",
      "230th iteration\n",
      "Loss: 8.024243561055577e-06\n",
      "--------------------------\n",
      "240th iteration\n",
      "Loss: 7.63241778212187e-06\n",
      "--------------------------\n",
      "250th iteration\n",
      "Loss: 7.259725952724061e-06\n",
      "--------------------------\n",
      "260th iteration\n",
      "Loss: 6.905233567056079e-06\n",
      "--------------------------\n",
      "270th iteration\n",
      "Loss: 6.56805068455224e-06\n",
      "CPU times: user 112 ms, sys: 34.3 ms, total: 146 ms\n",
      "Wall time: 123 ms\n"
     ]
    },
    {
     "data": {
      "text/plain": [
       "LogisticRegression(\n",
       "    intercept=-0.002499999999999999,\n",
       "    coefs=[0.00125287 0.00125287],\n",
       "    C=1.0,\n",
       "    lr=0.01,\n",
       "    verbose=True,\n",
       ")"
      ]
     },
     "execution_count": 10,
     "metadata": {},
     "output_type": "execute_result"
    }
   ],
   "source": [
    "%time log_reg.fit(X, y)"
   ]
  },
  {
   "cell_type": "markdown",
   "metadata": {},
   "source": [
    "### Evaluating the model"
   ]
  },
  {
   "cell_type": "code",
   "execution_count": 11,
   "metadata": {},
   "outputs": [
    {
     "name": "stdout",
     "output_type": "stream",
     "text": [
      "Accuracy score: 1.0\n"
     ]
    }
   ],
   "source": [
    "log_reg.evaluate(X, y)"
   ]
  },
  {
   "cell_type": "code",
   "execution_count": null,
   "metadata": {},
   "outputs": [],
   "source": []
  }
 ],
 "metadata": {
  "kernelspec": {
   "display_name": "Python 3",
   "language": "python",
   "name": "python3"
  },
  "language_info": {
   "codemirror_mode": {
    "name": "ipython",
    "version": 3
   },
   "file_extension": ".py",
   "mimetype": "text/x-python",
   "name": "python",
   "nbconvert_exporter": "python",
   "pygments_lexer": "ipython3",
   "version": "3.7.0"
  }
 },
 "nbformat": 4,
 "nbformat_minor": 2
}
