{
 "cells": [
  {
   "cell_type": "markdown",
   "metadata": {},
   "source": [
    "## Necessary imports"
   ]
  },
  {
   "cell_type": "code",
   "execution_count": 1,
   "metadata": {
    "scrolled": true
   },
   "outputs": [],
   "source": [
    "import numpy as np\n",
    "\n",
    "from dojo.bayes import NaiveBayes\n",
    "from sklearn.datasets import load_iris"
   ]
  },
  {
   "cell_type": "markdown",
   "metadata": {},
   "source": [
    "## Loading data"
   ]
  },
  {
   "cell_type": "code",
   "execution_count": 2,
   "metadata": {},
   "outputs": [],
   "source": [
    "iris = load_iris()\n",
    "data = np.column_stack((iris[\"data\"], iris[\"target\"]))\n",
    "np.random.shuffle(data)\n",
    "\n",
    "X, y = data[:, :-1], data[:, -1]\n",
    "\n",
    "train_size = int(150*0.7)\n",
    "X_train, X_test, y_train, y_test = X[:train_size], X[train_size:], y[:train_size], y[train_size:]"
   ]
  },
  {
   "cell_type": "markdown",
   "metadata": {},
   "source": [
    "## Building the model"
   ]
  },
  {
   "cell_type": "code",
   "execution_count": 3,
   "metadata": {},
   "outputs": [
    {
     "data": {
      "text/plain": [
       "NaiveBayes(\n",
       "    alpha=1e-09,\n",
       ")"
      ]
     },
     "execution_count": 3,
     "metadata": {},
     "output_type": "execute_result"
    }
   ],
   "source": [
    "model = NaiveBayes()\n",
    "model.fit(X_train, y_train)"
   ]
  },
  {
   "cell_type": "markdown",
   "metadata": {},
   "source": [
    "## Let's predict some probabilities"
   ]
  },
  {
   "cell_type": "code",
   "execution_count": 4,
   "metadata": {
    "scrolled": true
   },
   "outputs": [
    {
     "data": {
      "text/plain": [
       "array([[0.89473684, 0.02631579, 0.07894737],\n",
       "       [0.        , 0.72727272, 0.27272727],\n",
       "       [0.2       , 0.53333333, 0.26666666],\n",
       "       [0.88235294, 0.02941176, 0.08823529],\n",
       "       [0.13793103, 0.51724138, 0.34482758],\n",
       "       [0.        , 0.3       , 0.7       ],\n",
       "       [0.79999999, 0.06666667, 0.13333333],\n",
       "       [0.15789474, 0.52631579, 0.31578947],\n",
       "       [0.97142857, 0.        , 0.02857143],\n",
       "       [0.17647059, 0.11764706, 0.70588235],\n",
       "       [0.16666667, 0.41666666, 0.41666666],\n",
       "       [0.53333333, 0.33333333, 0.13333333],\n",
       "       [0.        , 0.625     , 0.375     ],\n",
       "       [0.94736842, 0.02631579, 0.02631579],\n",
       "       [0.        , 0.33333333, 0.66666666],\n",
       "       [0.69387755, 0.14285714, 0.16326531],\n",
       "       [0.        , 0.625     , 0.375     ],\n",
       "       [0.58064516, 0.19354839, 0.22580645],\n",
       "       [0.2       , 0.53333333, 0.26666666],\n",
       "       [0.24242424, 0.45454545, 0.3030303 ],\n",
       "       [0.17647059, 0.05882353, 0.76470588],\n",
       "       [0.13793103, 0.31034483, 0.55172414],\n",
       "       [0.125     , 0.375     , 0.5       ],\n",
       "       [0.        , 0.35294117, 0.64705882],\n",
       "       [0.95652174, 0.02173913, 0.02173913],\n",
       "       [0.75      , 0.25      , 0.        ],\n",
       "       [0.17391304, 0.30434782, 0.52173913],\n",
       "       [0.15789474, 0.15789474, 0.68421052],\n",
       "       [0.0625    , 0.625     , 0.3125    ],\n",
       "       [0.81081081, 0.13513513, 0.05405405],\n",
       "       [0.2       , 0.2       , 0.59999999],\n",
       "       [0.        , 0.80952381, 0.19047619],\n",
       "       [0.05263158, 0.78947368, 0.15789474],\n",
       "       [0.16666667, 0.29166667, 0.54166666],\n",
       "       [0.17391304, 0.30434782, 0.52173913],\n",
       "       [0.4117647 , 0.35294117, 0.23529412],\n",
       "       [0.95652173, 0.04347826, 0.        ],\n",
       "       [0.4375    , 0.0625    , 0.5       ],\n",
       "       [0.1875    , 0.25      , 0.5625    ],\n",
       "       [0.4375    , 0.5625    , 0.        ],\n",
       "       [0.91428571, 0.02857143, 0.05714286],\n",
       "       [0.06666667, 0.53333333, 0.4       ],\n",
       "       [0.        , 0.4       , 0.6       ],\n",
       "       [0.18181818, 0.18181818, 0.63636363],\n",
       "       [0.72      , 0.12      , 0.16      ]])"
      ]
     },
     "execution_count": 4,
     "metadata": {},
     "output_type": "execute_result"
    }
   ],
   "source": [
    "model.predict_proba(X_test)"
   ]
  },
  {
   "cell_type": "markdown",
   "metadata": {},
   "source": [
    "## Evaluating the model"
   ]
  },
  {
   "cell_type": "code",
   "execution_count": 5,
   "metadata": {},
   "outputs": [
    {
     "name": "stdout",
     "output_type": "stream",
     "text": [
      "Accuracy score: 0.9111111111111111\n"
     ]
    }
   ],
   "source": [
    "model.evaluate(X_test, y_test)"
   ]
  },
  {
   "cell_type": "code",
   "execution_count": null,
   "metadata": {},
   "outputs": [],
   "source": []
  }
 ],
 "metadata": {
  "kernelspec": {
   "display_name": "Python 3",
   "language": "python",
   "name": "python3"
  },
  "language_info": {
   "codemirror_mode": {
    "name": "ipython",
    "version": 3
   },
   "file_extension": ".py",
   "mimetype": "text/x-python",
   "name": "python",
   "nbconvert_exporter": "python",
   "pygments_lexer": "ipython3",
   "version": "3.7.0"
  }
 },
 "nbformat": 4,
 "nbformat_minor": 2
}
